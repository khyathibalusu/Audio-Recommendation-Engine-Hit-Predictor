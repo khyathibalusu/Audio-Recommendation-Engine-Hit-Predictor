{
  "nbformat": 4,
  "nbformat_minor": 0,
  "metadata": {
    "colab": {
      "name": "Ravi's Version Topic Modeling and Prediction.ipynb",
      "provenance": []
    },
    "kernelspec": {
      "name": "python3",
      "display_name": "Python 3"
    }
  },
  "cells": [
    {
      "cell_type": "markdown",
      "metadata": {
        "id": "LX6sUSL1fb8J",
        "colab_type": "text"
      },
      "source": [
        "#Setting Up Colab and Installing required Libraries\n",
        "\n",
        "\n"
      ]
    },
    {
      "cell_type": "code",
      "metadata": {
        "id": "7uFTqWrsd9pw",
        "colab_type": "code",
        "outputId": "f6efed2b-b1e0-4578-adc5-dd6f0e425074",
        "colab": {
          "base_uri": "https://localhost:8080/",
          "height": 122
        }
      },
      "source": [
        "from google.colab import drive\n",
        "drive.mount('/content/drive',force_remount=True)"
      ],
      "execution_count": 0,
      "outputs": [
        {
          "output_type": "stream",
          "text": [
            "Go to this URL in a browser: https://accounts.google.com/o/oauth2/auth?client_id=947318989803-6bn6qk8qdgf4n4g3pfee6491hc0brc4i.apps.googleusercontent.com&redirect_uri=urn%3aietf%3awg%3aoauth%3a2.0%3aoob&response_type=code&scope=email%20https%3a%2f%2fwww.googleapis.com%2fauth%2fdocs.test%20https%3a%2f%2fwww.googleapis.com%2fauth%2fdrive%20https%3a%2f%2fwww.googleapis.com%2fauth%2fdrive.photos.readonly%20https%3a%2f%2fwww.googleapis.com%2fauth%2fpeopleapi.readonly\n",
            "\n",
            "Enter your authorization code:\n",
            "··········\n",
            "Mounted at /content/drive\n"
          ],
          "name": "stdout"
        }
      ]
    },
    {
      "cell_type": "code",
      "metadata": {
        "id": "9pjenQ-Cesqr",
        "colab_type": "code",
        "colab": {}
      },
      "source": [
        "# Setup colab\n",
        "!pip install -U -q PyDrive\n",
        "from pydrive.auth import GoogleAuth\n",
        "from pydrive.drive import GoogleDrive\n",
        "from google.colab import auth\n",
        "from oauth2client.client import GoogleCredentials\n",
        "# Authenticate and create the PyDrive client.\n",
        "auth.authenticate_user()\n",
        "gauth = GoogleAuth()\n",
        "gauth.credentials = GoogleCredentials.get_application_default()\n",
        "drive = GoogleDrive(gauth)\n",
        "\n",
        "import warnings \n",
        "warnings.filterwarnings(\"ignore\")\n"
      ],
      "execution_count": 0,
      "outputs": []
    },
    {
      "cell_type": "code",
      "metadata": {
        "id": "572KcovlfOFf",
        "colab_type": "code",
        "colab": {}
      },
      "source": [
        "import pandas as pd\n",
        "%matplotlib inline\n",
        "import matplotlib.pyplot as plt\n",
        "from sklearn.cluster import KMeans\n",
        "from sklearn.preprocessing import MinMaxScaler\n",
        "from sklearn.model_selection import train_test_split\n",
        "from sklearn.linear_model import LogisticRegression\n",
        "from sklearn import metrics\n",
        "from scipy import sparse"
      ],
      "execution_count": 0,
      "outputs": []
    },
    {
      "cell_type": "markdown",
      "metadata": {
        "id": "czgfGnTGfQEE",
        "colab_type": "text"
      },
      "source": [
        ""
      ]
    },
    {
      "cell_type": "markdown",
      "metadata": {
        "id": "NYyVl6ACf22X",
        "colab_type": "text"
      },
      "source": [
        "# Fetching Required files from Drive\n"
      ]
    },
    {
      "cell_type": "code",
      "metadata": {
        "id": "91VD6UKjeySS",
        "colab_type": "code",
        "colab": {}
      },
      "source": [
        "id='1FRjhOrgx64gEvp2rPPDiZo-UzEgSfnPG'\n",
        "downloaded = drive.CreateFile({'id':id}) \n",
        "downloaded.GetContentFile('songs.csv')\n",
        "#https://drive.google.com/open?id=1-j7cQdaYC49se3zo2LP6zo0m8bq6vUyK\n",
        "\n",
        "#https://drive.google.com/open?id=1-j7cQdaYC49se3zo2LP6zo0m8bq6vUyK\n",
        "#https://drive.google.com/open?id=1FRjhOrgx64gEvp2rPPDiZo-UzEgSfnPG"
      ],
      "execution_count": 0,
      "outputs": []
    },
    {
      "cell_type": "code",
      "metadata": {
        "id": "hK1G-I0VgBga",
        "colab_type": "code",
        "outputId": "c7093c4b-19e2-4bbc-ca3b-bace38744ea9",
        "colab": {
          "base_uri": "https://localhost:8080/",
          "height": 250
        }
      },
      "source": [
        "df_songs_raw = pd.read_csv('songs.csv')\n",
        "df_songs_raw.head(2)"
      ],
      "execution_count": 0,
      "outputs": [
        {
          "output_type": "execute_result",
          "data": {
            "text/html": [
              "<div>\n",
              "<style scoped>\n",
              "    .dataframe tbody tr th:only-of-type {\n",
              "        vertical-align: middle;\n",
              "    }\n",
              "\n",
              "    .dataframe tbody tr th {\n",
              "        vertical-align: top;\n",
              "    }\n",
              "\n",
              "    .dataframe thead th {\n",
              "        text-align: right;\n",
              "    }\n",
              "</style>\n",
              "<table border=\"1\" class=\"dataframe\">\n",
              "  <thead>\n",
              "    <tr style=\"text-align: right;\">\n",
              "      <th></th>\n",
              "      <th>name</th>\n",
              "      <th>track uri</th>\n",
              "      <th>artist</th>\n",
              "      <th>followers</th>\n",
              "      <th>artist_popularity</th>\n",
              "      <th>release_date</th>\n",
              "      <th>lyrics</th>\n",
              "      <th>duration_ms</th>\n",
              "      <th>song_popularity</th>\n",
              "      <th>explicit</th>\n",
              "      <th>acousticness</th>\n",
              "      <th>danceability</th>\n",
              "      <th>energy</th>\n",
              "      <th>instrumentalness</th>\n",
              "      <th>liveness</th>\n",
              "      <th>loudness</th>\n",
              "      <th>speechiness</th>\n",
              "      <th>tempo</th>\n",
              "      <th>valence</th>\n",
              "      <th>Playlist_Name</th>\n",
              "      <th>listener_count</th>\n",
              "      <th>filtered_lyrics</th>\n",
              "      <th>Topic0</th>\n",
              "      <th>Topic1</th>\n",
              "      <th>Topic2</th>\n",
              "      <th>Topic3</th>\n",
              "      <th>dominant_topic</th>\n",
              "      <th>sentiment</th>\n",
              "    </tr>\n",
              "  </thead>\n",
              "  <tbody>\n",
              "    <tr>\n",
              "      <th>0</th>\n",
              "      <td>God Is Dead?</td>\n",
              "      <td>spotify:track:42wFRybIJ2n5RoD7r9R8Rz</td>\n",
              "      <td>Black Sabbath</td>\n",
              "      <td>4027757</td>\n",
              "      <td>77</td>\n",
              "      <td>1/1/2013</td>\n",
              "      <td>Lost in the darkness\\nI fade from the light\\nF...</td>\n",
              "      <td>532266</td>\n",
              "      <td>2</td>\n",
              "      <td>False</td>\n",
              "      <td>0.000187</td>\n",
              "      <td>0.378</td>\n",
              "      <td>0.733</td>\n",
              "      <td>0.00195</td>\n",
              "      <td>0.0582</td>\n",
              "      <td>-4.935</td>\n",
              "      <td>0.0331</td>\n",
              "      <td>118.454</td>\n",
              "      <td>0.164</td>\n",
              "      <td>Top 100 Metal Tracks on Spotify</td>\n",
              "      <td>139370.0</td>\n",
              "      <td>lost darkness fade light faith father brother ...</td>\n",
              "      <td>0.0</td>\n",
              "      <td>0.94</td>\n",
              "      <td>0.0</td>\n",
              "      <td>0.06</td>\n",
              "      <td>1</td>\n",
              "      <td>-0.9951</td>\n",
              "    </tr>\n",
              "    <tr>\n",
              "      <th>1</th>\n",
              "      <td>The Enemy Inside</td>\n",
              "      <td>spotify:track:1ZR4QAYsiO9zPsGaMPW2OI</td>\n",
              "      <td>Dream Theater</td>\n",
              "      <td>941336</td>\n",
              "      <td>68</td>\n",
              "      <td>9/16/2013</td>\n",
              "      <td>Over and over again\\nI relive the moment\\nI'm ...</td>\n",
              "      <td>377373</td>\n",
              "      <td>52</td>\n",
              "      <td>False</td>\n",
              "      <td>0.000012</td>\n",
              "      <td>0.488</td>\n",
              "      <td>0.976</td>\n",
              "      <td>0.02950</td>\n",
              "      <td>0.0670</td>\n",
              "      <td>-4.165</td>\n",
              "      <td>0.1420</td>\n",
              "      <td>143.988</td>\n",
              "      <td>0.404</td>\n",
              "      <td>Top 100 Metal Tracks on Spotify</td>\n",
              "      <td>72344.0</td>\n",
              "      <td>relive moment bearing burden within open wound...</td>\n",
              "      <td>0.0</td>\n",
              "      <td>0.49</td>\n",
              "      <td>0.0</td>\n",
              "      <td>0.50</td>\n",
              "      <td>3</td>\n",
              "      <td>-0.9962</td>\n",
              "    </tr>\n",
              "  </tbody>\n",
              "</table>\n",
              "</div>"
            ],
            "text/plain": [
              "               name  ... sentiment\n",
              "0      God Is Dead?  ...   -0.9951\n",
              "1  The Enemy Inside  ...   -0.9962\n",
              "\n",
              "[2 rows x 28 columns]"
            ]
          },
          "metadata": {
            "tags": []
          },
          "execution_count": 6
        }
      ]
    },
    {
      "cell_type": "code",
      "metadata": {
        "id": "JA9XN0XpgygL",
        "colab_type": "code",
        "outputId": "d731c1ce-f911-49fa-f1d1-676bb5f93e41",
        "colab": {
          "base_uri": "https://localhost:8080/",
          "height": 51
        }
      },
      "source": [
        "# Dropping the duplicates of songs in the dataframe\n",
        "print(df_songs_raw.shape)\n",
        "df_songs=df_songs_raw.drop_duplicates(subset='name', keep='first', inplace=False)\n",
        "df_songs.shape"
      ],
      "execution_count": 0,
      "outputs": [
        {
          "output_type": "stream",
          "text": [
            "(2977, 28)\n"
          ],
          "name": "stdout"
        },
        {
          "output_type": "execute_result",
          "data": {
            "text/plain": [
              "(2857, 28)"
            ]
          },
          "metadata": {
            "tags": []
          },
          "execution_count": 7
        }
      ]
    },
    {
      "cell_type": "markdown",
      "metadata": {
        "id": "bp3zJh6Gjzcq",
        "colab_type": "text"
      },
      "source": [
        "#Clustering Around Song Features"
      ]
    },
    {
      "cell_type": "code",
      "metadata": {
        "id": "yBK8MPUYjgau",
        "colab_type": "code",
        "outputId": "02bfc3f7-0e36-430e-e114-e1e3827291f6",
        "colab": {
          "base_uri": "https://localhost:8080/",
          "height": 306
        }
      },
      "source": [
        "#Creating a new DF for song Clusters - 'instrumentalness' was removed, becauase of variation and 0's\n",
        "df_mod = df_songs[['acousticness', 'danceability', 'energy', 'liveness', 'loudness', 'speechiness', 'tempo', 'valence']]\n",
        "print(df_mod.mean(), df_mod.std())"
      ],
      "execution_count": 0,
      "outputs": [
        {
          "output_type": "stream",
          "text": [
            "acousticness      0.227866\n",
            "danceability      0.606598\n",
            "energy            0.649814\n",
            "liveness          0.185514\n",
            "loudness         -6.780174\n",
            "speechiness       0.102664\n",
            "tempo           122.339866\n",
            "valence           0.455279\n",
            "dtype: float64 acousticness     0.282818\n",
            "danceability     0.160425\n",
            "energy           0.210438\n",
            "liveness         0.147436\n",
            "loudness         3.194067\n",
            "speechiness      0.105042\n",
            "tempo           29.131761\n",
            "valence          0.225162\n",
            "dtype: float64\n"
          ],
          "name": "stdout"
        }
      ]
    },
    {
      "cell_type": "code",
      "metadata": {
        "id": "oVsdQWUnl413",
        "colab_type": "code",
        "outputId": "148e9b41-af7a-48fe-f396-ce273ed091c2",
        "colab": {
          "base_uri": "https://localhost:8080/",
          "height": 295
        }
      },
      "source": [
        "#Testing diff 'k' values for clustering\n",
        "Sum_of_squared_distances = []\n",
        "K = range(1,15)\n",
        "for k in K:\n",
        "    km = KMeans(n_clusters=k)\n",
        "    km = km.fit(df_mod)\n",
        "    Sum_of_squared_distances.append(km.inertia_)\n",
        "\n",
        "# Elbow plot\n",
        "plt.plot(K, Sum_of_squared_distances, 'bx-')\n",
        "plt.xlabel('k')\n",
        "plt.ylabel('Sum_of_squared_distances')\n",
        "plt.title('Elbow Method For Optimal k')\n",
        "plt.show()"
      ],
      "execution_count": 0,
      "outputs": [
        {
          "output_type": "display_data",
          "data": {
            "image/png": "[encoded data removed]",
            "text/plain": [
              "<Figure size 432x288 with 1 Axes>"
            ]
          },
          "metadata": {
            "tags": []
          }
        }
      ]
    },
    {
      "cell_type": "code",
      "metadata": {
        "id": "XVwCqnGomDbW",
        "colab_type": "code",
        "outputId": "f643f88c-9700-429d-f42f-61846d2038fc",
        "colab": {
          "base_uri": "https://localhost:8080/",
          "height": 295
        }
      },
      "source": [
        "#Min-max transform before clustering\n",
        "mms = MinMaxScaler()\n",
        "mms.fit(df_mod)\n",
        "data_transformed = mms.transform(df_mod)\n",
        "\n",
        "#Testing diff 'k' values for clustering\n",
        "Sum_of_squared_distances = []\n",
        "K = range(1,15)\n",
        "for k in K:\n",
        "    km = KMeans(n_clusters=k)\n",
        "    km = km.fit(data_transformed)\n",
        "    Sum_of_squared_distances.append(km.inertia_)\n",
        "\n",
        "# Elbow plot\n",
        "plt.plot(K, Sum_of_squared_distances, 'bx-')\n",
        "plt.xlabel('k')\n",
        "plt.ylabel('Sum_of_squared_distances')\n",
        "plt.title('Elbow Method For Optimal k')\n",
        "plt.show()"
      ],
      "execution_count": 0,
      "outputs": [
        {
          "output_type": "display_data",
          "data": {
            "image/png": "[encoded data removed]",
            "text/plain": [
              "<Figure size 432x288 with 1 Axes>"
            ]
          },
          "metadata": {
            "tags": []
          }
        }
      ]
    },
    {
      "cell_type": "code",
      "metadata": {
        "id": "WmLhq11wrCMY",
        "colab_type": "code",
        "outputId": "a982f3a5-7d05-4e61-d2eb-48ae7ba9415a",
        "colab": {
          "base_uri": "https://localhost:8080/",
          "height": 34
        }
      },
      "source": [
        "best_cluster = KMeans(n_clusters=4)\n",
        "best_cluster = best_cluster.fit(df_mod)\n",
        "cluster=list(best_cluster.labels_)\n",
        "\n",
        "cluster_dict={}\n",
        "for i in cluster:\n",
        "  if i in cluster_dict.keys():\n",
        "    cluster_dict[i]=cluster_dict[i]+1\n",
        "  else:\n",
        "    cluster_dict[i]=1\n",
        "cluster_dict"
      ],
      "execution_count": 0,
      "outputs": [
        {
          "output_type": "execute_result",
          "data": {
            "text/plain": [
              "{0: 647, 1: 877, 2: 984, 3: 349}"
            ]
          },
          "metadata": {
            "tags": []
          },
          "execution_count": 11
        }
      ]
    },
    {
      "cell_type": "markdown",
      "metadata": {
        "id": "0iJFtKSsu-DJ",
        "colab_type": "text"
      },
      "source": [
        "#Declaring Y-variable and Predictive Model\n"
      ]
    },
    {
      "cell_type": "code",
      "metadata": {
        "id": "Lki-uwuUuqvQ",
        "colab_type": "code",
        "outputId": "bd05cce8-4e31-447b-9d74-7971750630c5",
        "colab": {
          "base_uri": "https://localhost:8080/",
          "height": 68
        }
      },
      "source": [
        "Y_median = df_songs['song_popularity'].median()\n",
        "def Y_creator(score):\n",
        "    if score > 70000:\n",
        "        return 1\n",
        "    else:\n",
        "        return 0\n",
        "df_songs['Hit']=df_songs['listener_count'].apply(Y_creator)\n",
        "df_songs.head(2)\n",
        "df_songs.Hit.value_counts()"
      ],
      "execution_count": 0,
      "outputs": [
        {
          "output_type": "execute_result",
          "data": {
            "text/plain": [
              "0    1964\n",
              "1     893\n",
              "Name: Hit, dtype: int64"
            ]
          },
          "metadata": {
            "tags": []
          },
          "execution_count": 44
        }
      ]
    },
    {
      "cell_type": "markdown",
      "metadata": {
        "id": "Gzog3gmqwyFp",
        "colab_type": "text"
      },
      "source": [
        "##Logistic Regression on Music Features only\n"
      ]
    },
    {
      "cell_type": "code",
      "metadata": {
        "id": "7KKxHrJ0vl-0",
        "colab_type": "code",
        "colab": {}
      },
      "source": [
        "df_features = df_songs[['acousticness', 'danceability', 'energy', 'liveness', 'loudness', 'speechiness', 'tempo', 'valence']]\n",
        "X = df_features\n",
        "y = df_songs[['Hit']]"
      ],
      "execution_count": 0,
      "outputs": []
    },
    {
      "cell_type": "code",
      "metadata": {
        "id": "8Ird3BeAxjmP",
        "colab_type": "code",
        "outputId": "28872abf-ebfa-45ee-ee38-7085024662dd",
        "colab": {
          "base_uri": "https://localhost:8080/",
          "height": 159
        }
      },
      "source": [
        "\n",
        "\n",
        "#Train-test Split and Fitting the model\n",
        "x_train, x_test, y_train, y_test = train_test_split(X, y, test_size=0.25, random_state=0)\n",
        "log_reg = LogisticRegression()\n",
        "log_reg.fit(x_train, y_train)\n",
        "\n",
        "#Prediction Accuracy and Confusion Matrix\n",
        "print(\"The accuracy of the model is \",round(log_reg.score(x_test, y_test),2))\n",
        "predictions = log_reg.predict(x_test)\n",
        "confusion = pd.DataFrame(zip(y_test.Hit, predictions), columns=['actual', 'predicted'])\n",
        "pd.crosstab(confusion.actual, confusion.predicted)"
      ],
      "execution_count": 0,
      "outputs": [
        {
          "output_type": "stream",
          "text": [
            "The accuracy of the model is  0.69\n"
          ],
          "name": "stdout"
        },
        {
          "output_type": "execute_result",
          "data": {
            "text/html": [
              "<div>\n",
              "<style scoped>\n",
              "    .dataframe tbody tr th:only-of-type {\n",
              "        vertical-align: middle;\n",
              "    }\n",
              "\n",
              "    .dataframe tbody tr th {\n",
              "        vertical-align: top;\n",
              "    }\n",
              "\n",
              "    .dataframe thead th {\n",
              "        text-align: right;\n",
              "    }\n",
              "</style>\n",
              "<table border=\"1\" class=\"dataframe\">\n",
              "  <thead>\n",
              "    <tr style=\"text-align: right;\">\n",
              "      <th>predicted</th>\n",
              "      <th>0</th>\n",
              "    </tr>\n",
              "    <tr>\n",
              "      <th>actual</th>\n",
              "      <th></th>\n",
              "    </tr>\n",
              "  </thead>\n",
              "  <tbody>\n",
              "    <tr>\n",
              "      <th>0</th>\n",
              "      <td>490</td>\n",
              "    </tr>\n",
              "    <tr>\n",
              "      <th>1</th>\n",
              "      <td>225</td>\n",
              "    </tr>\n",
              "  </tbody>\n",
              "</table>\n",
              "</div>"
            ],
            "text/plain": [
              "predicted    0\n",
              "actual        \n",
              "0          490\n",
              "1          225"
            ]
          },
          "metadata": {
            "tags": []
          },
          "execution_count": 46
        }
      ]
    },
    {
      "cell_type": "markdown",
      "metadata": {
        "colab_type": "text",
        "id": "pAdGyCyt563I"
      },
      "source": [
        "##Logistic Regression on Music Features and Artist Popularity\n"
      ]
    },
    {
      "cell_type": "code",
      "metadata": {
        "id": "YcEDOUXxxkV_",
        "colab_type": "code",
        "outputId": "170e11be-64c9-46bc-d4b0-991e7cada553",
        "colab": {
          "base_uri": "https://localhost:8080/",
          "height": 159
        }
      },
      "source": [
        "X2=df_songs[['acousticness', 'danceability', 'energy', 'liveness', 'loudness', 'speechiness', 'tempo', 'valence','artist_popularity']]\n",
        "\n",
        "#Train-test Split and Fitting the model\n",
        "x_train, x_test, y_train, y_test = train_test_split(X2, y, test_size=0.25, random_state=0)\n",
        "log_reg = LogisticRegression()\n",
        "log_reg.fit(x_train, y_train)\n",
        "\n",
        "#Prediction Accuracy and Confusion Matrix\n",
        "print(\"The accuracy of the model is \",round(log_reg.score(x_test, y_test),2))\n",
        "predictions = log_reg.predict(x_test)\n",
        "confusion = pd.DataFrame(zip(y_test.Hit, predictions), columns=['actual', 'predicted'])\n",
        "pd.crosstab(confusion.actual, confusion.predicted)"
      ],
      "execution_count": 0,
      "outputs": [
        {
          "output_type": "stream",
          "text": [
            "The accuracy of the model is  0.76\n"
          ],
          "name": "stdout"
        },
        {
          "output_type": "execute_result",
          "data": {
            "text/html": [
              "<div>\n",
              "<style scoped>\n",
              "    .dataframe tbody tr th:only-of-type {\n",
              "        vertical-align: middle;\n",
              "    }\n",
              "\n",
              "    .dataframe tbody tr th {\n",
              "        vertical-align: top;\n",
              "    }\n",
              "\n",
              "    .dataframe thead th {\n",
              "        text-align: right;\n",
              "    }\n",
              "</style>\n",
              "<table border=\"1\" class=\"dataframe\">\n",
              "  <thead>\n",
              "    <tr style=\"text-align: right;\">\n",
              "      <th>predicted</th>\n",
              "      <th>0</th>\n",
              "      <th>1</th>\n",
              "    </tr>\n",
              "    <tr>\n",
              "      <th>actual</th>\n",
              "      <th></th>\n",
              "      <th></th>\n",
              "    </tr>\n",
              "  </thead>\n",
              "  <tbody>\n",
              "    <tr>\n",
              "      <th>0</th>\n",
              "      <td>451</td>\n",
              "      <td>39</td>\n",
              "    </tr>\n",
              "    <tr>\n",
              "      <th>1</th>\n",
              "      <td>136</td>\n",
              "      <td>89</td>\n",
              "    </tr>\n",
              "  </tbody>\n",
              "</table>\n",
              "</div>"
            ],
            "text/plain": [
              "predicted    0   1\n",
              "actual            \n",
              "0          451  39\n",
              "1          136  89"
            ]
          },
          "metadata": {
            "tags": []
          },
          "execution_count": 47
        }
      ]
    },
    {
      "cell_type": "markdown",
      "metadata": {
        "id": "oquKRNNi60DN",
        "colab_type": "text"
      },
      "source": [
        "#Prediction with Topic Modelling and sentiment"
      ]
    },
    {
      "cell_type": "code",
      "metadata": {
        "id": "9-WlZawo6y1O",
        "colab_type": "code",
        "outputId": "a475bc10-f777-41ec-8a47-fc22b0383aff",
        "colab": {
          "base_uri": "https://localhost:8080/",
          "height": 159
        }
      },
      "source": [
        "X2=df_songs[['acousticness', 'danceability', 'energy', 'liveness', 'loudness', 'speechiness', 'tempo', 'valence','Topic0','Topic1','Topic2','Topic3','sentiment']]\n",
        "\n",
        "#Train-test Split and Fitting the model\n",
        "x_train, x_test, y_train, y_test = train_test_split(X2, y, test_size=0.25, random_state=0)\n",
        "log_reg = LogisticRegression()\n",
        "log_reg.fit(x_train, y_train)\n",
        "\n",
        "#Prediction Accuracy and Confusion Matrix\n",
        "print(\"The accuracy of the model is \",round(log_reg.score(x_test, y_test),2))\n",
        "predictions = log_reg.predict(x_test)\n",
        "confusion = pd.DataFrame(zip(y_test.Hit, predictions), columns=['actual', 'predicted'])\n",
        "pd.crosstab(confusion.actual, confusion.predicted)"
      ],
      "execution_count": 0,
      "outputs": [
        {
          "output_type": "stream",
          "text": [
            "The accuracy of the model is  0.68\n"
          ],
          "name": "stdout"
        },
        {
          "output_type": "execute_result",
          "data": {
            "text/html": [
              "<div>\n",
              "<style scoped>\n",
              "    .dataframe tbody tr th:only-of-type {\n",
              "        vertical-align: middle;\n",
              "    }\n",
              "\n",
              "    .dataframe tbody tr th {\n",
              "        vertical-align: top;\n",
              "    }\n",
              "\n",
              "    .dataframe thead th {\n",
              "        text-align: right;\n",
              "    }\n",
              "</style>\n",
              "<table border=\"1\" class=\"dataframe\">\n",
              "  <thead>\n",
              "    <tr style=\"text-align: right;\">\n",
              "      <th>predicted</th>\n",
              "      <th>0</th>\n",
              "      <th>1</th>\n",
              "    </tr>\n",
              "    <tr>\n",
              "      <th>actual</th>\n",
              "      <th></th>\n",
              "      <th></th>\n",
              "    </tr>\n",
              "  </thead>\n",
              "  <tbody>\n",
              "    <tr>\n",
              "      <th>0</th>\n",
              "      <td>480</td>\n",
              "      <td>10</td>\n",
              "    </tr>\n",
              "    <tr>\n",
              "      <th>1</th>\n",
              "      <td>216</td>\n",
              "      <td>9</td>\n",
              "    </tr>\n",
              "  </tbody>\n",
              "</table>\n",
              "</div>"
            ],
            "text/plain": [
              "predicted    0   1\n",
              "actual            \n",
              "0          480  10\n",
              "1          216   9"
            ]
          },
          "metadata": {
            "tags": []
          },
          "execution_count": 48
        }
      ]
    },
    {
      "cell_type": "markdown",
      "metadata": {
        "id": "fCOLEkOA8oUQ",
        "colab_type": "text"
      },
      "source": [
        "#TF-IDF Creation for Lyrics"
      ]
    },
    {
      "cell_type": "code",
      "metadata": {
        "id": "FV_LdH6sxoDn",
        "colab_type": "code",
        "outputId": "77cf4617-9d8b-49fa-ac10-85804fc1f1a9",
        "colab": {
          "base_uri": "https://localhost:8080/",
          "height": 85
        }
      },
      "source": [
        "from sklearn.feature_extraction.text import TfidfTransformer\n",
        "from sklearn.feature_extraction.text import CountVectorizer\n",
        "from nltk import word_tokenize\n",
        "from nltk.stem import WordNetLemmatizer\n",
        "import nltk\n",
        "nltk.download('punkt')\n",
        "nltk.download('wordnet')\n",
        "\n",
        "class LemmaTokenizer(object):\n",
        "    def __init__(self):\n",
        "        self.wnl = WordNetLemmatizer()\n",
        "    def __call__(self, doc):\n",
        "        return [self.wnl.lemmatize(t) for t in word_tokenize(doc)]"
      ],
      "execution_count": 0,
      "outputs": [
        {
          "output_type": "stream",
          "text": [
            "[nltk_data] Downloading package punkt to /root/nltk_data...\n",
            "[nltk_data]   Package punkt is already up-to-date!\n",
            "[nltk_data] Downloading package wordnet to /root/nltk_data...\n",
            "[nltk_data]   Package wordnet is already up-to-date!\n"
          ],
          "name": "stdout"
        }
      ]
    },
    {
      "cell_type": "code",
      "metadata": {
        "id": "ym0ifiUN8cWn",
        "colab_type": "code",
        "colab": {}
      },
      "source": [
        "cv=CountVectorizer(tokenizer=LemmaTokenizer(), ngram_range=(1,2), stop_words='english', max_features=1250)\n",
        "word_count_vector=cv.fit_transform(df_songs.lyrics.values)\n",
        "tfidf_transformer=TfidfTransformer(smooth_idf=True,use_idf=True)\n",
        "tfidf_transformer.fit(word_count_vector)\n",
        "# tf-idf scores\n",
        "tf_idf_vector=tfidf_transformer.transform(word_count_vector)"
      ],
      "execution_count": 0,
      "outputs": []
    },
    {
      "cell_type": "code",
      "metadata": {
        "id": "EdWnvPfj9Zeg",
        "colab_type": "code",
        "outputId": "b3f01989-3f9d-49d4-e74c-4ba5524a3ae2",
        "colab": {
          "base_uri": "https://localhost:8080/",
          "height": 159
        }
      },
      "source": [
        "X3=tf_idf_vector\n",
        "\n",
        "#Train-test Split and Fitting the model\n",
        "x_train, x_test, y_train, y_test = train_test_split(X3, y, test_size=0.25, random_state=0)\n",
        "log_reg = LogisticRegression()\n",
        "log_reg.fit(x_train, y_train)\n",
        "\n",
        "#Prediction Accuracy and Confusion Matrix\n",
        "print(\"The accuracy of the model is \",round(log_reg.score(x_test, y_test),2))\n",
        "predictions = log_reg.predict(x_test)\n",
        "confusion = pd.DataFrame(zip(y_test.Hit, predictions), columns=['actual', 'predicted'])\n",
        "pd.crosstab(confusion.actual, confusion.predicted)"
      ],
      "execution_count": 0,
      "outputs": [
        {
          "output_type": "stream",
          "text": [
            "The accuracy of the model is  0.7\n"
          ],
          "name": "stdout"
        },
        {
          "output_type": "execute_result",
          "data": {
            "text/html": [
              "<div>\n",
              "<style scoped>\n",
              "    .dataframe tbody tr th:only-of-type {\n",
              "        vertical-align: middle;\n",
              "    }\n",
              "\n",
              "    .dataframe tbody tr th {\n",
              "        vertical-align: top;\n",
              "    }\n",
              "\n",
              "    .dataframe thead th {\n",
              "        text-align: right;\n",
              "    }\n",
              "</style>\n",
              "<table border=\"1\" class=\"dataframe\">\n",
              "  <thead>\n",
              "    <tr style=\"text-align: right;\">\n",
              "      <th>predicted</th>\n",
              "      <th>0</th>\n",
              "      <th>1</th>\n",
              "    </tr>\n",
              "    <tr>\n",
              "      <th>actual</th>\n",
              "      <th></th>\n",
              "      <th></th>\n",
              "    </tr>\n",
              "  </thead>\n",
              "  <tbody>\n",
              "    <tr>\n",
              "      <th>0</th>\n",
              "      <td>456</td>\n",
              "      <td>34</td>\n",
              "    </tr>\n",
              "    <tr>\n",
              "      <th>1</th>\n",
              "      <td>180</td>\n",
              "      <td>45</td>\n",
              "    </tr>\n",
              "  </tbody>\n",
              "</table>\n",
              "</div>"
            ],
            "text/plain": [
              "predicted    0   1\n",
              "actual            \n",
              "0          456  34\n",
              "1          180  45"
            ]
          },
          "metadata": {
            "tags": []
          },
          "execution_count": 51
        }
      ]
    },
    {
      "cell_type": "code",
      "metadata": {
        "id": "QqJFq-xv-uq-",
        "colab_type": "code",
        "outputId": "62753a36-70fd-493a-f38e-44655c060962",
        "colab": {
          "base_uri": "https://localhost:8080/",
          "height": 159
        }
      },
      "source": [
        "\n",
        "combined = sparse.hstack([tf_idf_vector, sparse.csr_matrix(X2)])\n",
        "X4 = combined\n",
        "#Train-test Split and Fitting the model\n",
        "x_train, x_test, y_train, y_test = train_test_split(X4, y, test_size=0.25, random_state=0)\n",
        "log_reg = LogisticRegression()\n",
        "log_reg.fit(x_train, y_train)\n",
        "\n",
        "#Prediction Accuracy and Confusion Matrix\n",
        "print(\"The accuracy of the model is \",round(log_reg.score(x_test, y_test),2))\n",
        "predictions = log_reg.predict(x_test)\n",
        "confusion = pd.DataFrame(zip(y_test.Hit, predictions), columns=['actual', 'predicted'])\n",
        "pd.crosstab(confusion.actual, confusion.predicted)"
      ],
      "execution_count": 0,
      "outputs": [
        {
          "output_type": "stream",
          "text": [
            "The accuracy of the model is  0.71\n"
          ],
          "name": "stdout"
        },
        {
          "output_type": "execute_result",
          "data": {
            "text/html": [
              "<div>\n",
              "<style scoped>\n",
              "    .dataframe tbody tr th:only-of-type {\n",
              "        vertical-align: middle;\n",
              "    }\n",
              "\n",
              "    .dataframe tbody tr th {\n",
              "        vertical-align: top;\n",
              "    }\n",
              "\n",
              "    .dataframe thead th {\n",
              "        text-align: right;\n",
              "    }\n",
              "</style>\n",
              "<table border=\"1\" class=\"dataframe\">\n",
              "  <thead>\n",
              "    <tr style=\"text-align: right;\">\n",
              "      <th>predicted</th>\n",
              "      <th>0</th>\n",
              "      <th>1</th>\n",
              "    </tr>\n",
              "    <tr>\n",
              "      <th>actual</th>\n",
              "      <th></th>\n",
              "      <th></th>\n",
              "    </tr>\n",
              "  </thead>\n",
              "  <tbody>\n",
              "    <tr>\n",
              "      <th>0</th>\n",
              "      <td>448</td>\n",
              "      <td>42</td>\n",
              "    </tr>\n",
              "    <tr>\n",
              "      <th>1</th>\n",
              "      <td>166</td>\n",
              "      <td>59</td>\n",
              "    </tr>\n",
              "  </tbody>\n",
              "</table>\n",
              "</div>"
            ],
            "text/plain": [
              "predicted    0   1\n",
              "actual            \n",
              "0          448  42\n",
              "1          166  59"
            ]
          },
          "metadata": {
            "tags": []
          },
          "execution_count": 52
        }
      ]
    },
    {
      "cell_type": "markdown",
      "metadata": {
        "id": "uxE7NMgwlxhO",
        "colab_type": "text"
      },
      "source": [
        "# Random Forest\n"
      ]
    },
    {
      "cell_type": "code",
      "metadata": {
        "id": "_P7WRFgHoK0b",
        "colab_type": "code",
        "outputId": "a9b6c00e-cda6-485e-c19f-90869b0c5565",
        "colab": {
          "base_uri": "https://localhost:8080/",
          "height": 159
        }
      },
      "source": [
        "X1=df_songs[['acousticness', 'danceability', 'energy', 'liveness', 'loudness', 'speechiness', 'tempo', 'valence']]\n",
        "\n",
        "#Train-test Split and Fitting the model\n",
        "x_train, x_test, y_train, y_test = train_test_split(X1, y, test_size=0.25, random_state=0)\n",
        "log_reg = LogisticRegression()\n",
        "log_reg.fit(x_train, y_train)\n",
        "\n",
        "from sklearn.ensemble import RandomForestClassifier\n",
        "regr = RandomForestClassifier(max_depth=8, random_state=0,n_estimators=1000)\n",
        "regr.fit(x_train, y_train)\n",
        "from sklearn.metrics import r2_score\n",
        "from sklearn.metrics import accuracy_score\n",
        "r2_score(y_train, regr.predict(x_train), sample_weight=None)\n",
        "\n",
        "\n",
        "print(accuracy_score(y_test, regr.predict(x_test).round(), sample_weight=None))\n",
        "\n",
        "predictions = regr.predict(x_test)\n",
        "confusion = pd.DataFrame(zip(y_test.Hit, predictions), columns=['actual', 'predicted'])\n",
        "pd.crosstab(confusion.actual, confusion.predicted)"
      ],
      "execution_count": 0,
      "outputs": [
        {
          "output_type": "stream",
          "text": [
            "0.6895104895104895\n"
          ],
          "name": "stdout"
        },
        {
          "output_type": "execute_result",
          "data": {
            "text/html": [
              "<div>\n",
              "<style scoped>\n",
              "    .dataframe tbody tr th:only-of-type {\n",
              "        vertical-align: middle;\n",
              "    }\n",
              "\n",
              "    .dataframe tbody tr th {\n",
              "        vertical-align: top;\n",
              "    }\n",
              "\n",
              "    .dataframe thead th {\n",
              "        text-align: right;\n",
              "    }\n",
              "</style>\n",
              "<table border=\"1\" class=\"dataframe\">\n",
              "  <thead>\n",
              "    <tr style=\"text-align: right;\">\n",
              "      <th>predicted</th>\n",
              "      <th>0</th>\n",
              "      <th>1</th>\n",
              "    </tr>\n",
              "    <tr>\n",
              "      <th>actual</th>\n",
              "      <th></th>\n",
              "      <th></th>\n",
              "    </tr>\n",
              "  </thead>\n",
              "  <tbody>\n",
              "    <tr>\n",
              "      <th>0</th>\n",
              "      <td>476</td>\n",
              "      <td>14</td>\n",
              "    </tr>\n",
              "    <tr>\n",
              "      <th>1</th>\n",
              "      <td>208</td>\n",
              "      <td>17</td>\n",
              "    </tr>\n",
              "  </tbody>\n",
              "</table>\n",
              "</div>"
            ],
            "text/plain": [
              "predicted    0   1\n",
              "actual            \n",
              "0          476  14\n",
              "1          208  17"
            ]
          },
          "metadata": {
            "tags": []
          },
          "execution_count": 62
        }
      ]
    },
    {
      "cell_type": "code",
      "metadata": {
        "id": "RsMoz5rol0At",
        "colab_type": "code",
        "outputId": "e111e781-0664-4a15-cd52-0e0de1a3d15d",
        "colab": {
          "base_uri": "https://localhost:8080/",
          "height": 159
        }
      },
      "source": [
        "X2=df_songs[['acousticness', 'danceability', 'energy', 'liveness', 'loudness', 'speechiness', 'tempo', 'valence','Topic0','Topic1','Topic2','Topic3','sentiment']]\n",
        "combined = sparse.hstack([tf_idf_vector, sparse.csr_matrix(X2)])\n",
        "X4 = combined\n",
        "#Train-test Split and Fitting the model\n",
        "x_train, x_test, y_train, y_test = train_test_split(X4, y, test_size=0.25, random_state=0)\n",
        "log_reg = LogisticRegression()\n",
        "log_reg.fit(x_train, y_train)\n",
        "\n",
        "from sklearn.ensemble import RandomForestClassifier\n",
        "regr = RandomForestClassifier(max_depth=8, random_state=0,n_estimators=1000)\n",
        "regr.fit(x_train, y_train)\n",
        "from sklearn.metrics import r2_score\n",
        "from sklearn.metrics import accuracy_score\n",
        "r2_score(y_train, regr.predict(x_train), sample_weight=None)\n",
        "\n",
        "\n",
        "accuracy_score(y_test, regr.predict(x_test).round(), sample_weight=None)\n",
        "\n",
        "\n",
        "print(accuracy_score(y_test, regr.predict(x_test).round(), sample_weight=None))\n",
        "\n",
        "predictions = regr.predict(x_test)\n",
        "confusion = pd.DataFrame(zip(y_test.Hit, predictions), columns=['actual', 'predicted'])\n",
        "pd.crosstab(confusion.actual, confusion.predicted)\n"
      ],
      "execution_count": 0,
      "outputs": [
        {
          "output_type": "stream",
          "text": [
            "0.6825174825174826\n"
          ],
          "name": "stdout"
        },
        {
          "output_type": "execute_result",
          "data": {
            "text/html": [
              "<div>\n",
              "<style scoped>\n",
              "    .dataframe tbody tr th:only-of-type {\n",
              "        vertical-align: middle;\n",
              "    }\n",
              "\n",
              "    .dataframe tbody tr th {\n",
              "        vertical-align: top;\n",
              "    }\n",
              "\n",
              "    .dataframe thead th {\n",
              "        text-align: right;\n",
              "    }\n",
              "</style>\n",
              "<table border=\"1\" class=\"dataframe\">\n",
              "  <thead>\n",
              "    <tr style=\"text-align: right;\">\n",
              "      <th>predicted</th>\n",
              "      <th>0</th>\n",
              "      <th>1</th>\n",
              "    </tr>\n",
              "    <tr>\n",
              "      <th>actual</th>\n",
              "      <th></th>\n",
              "      <th></th>\n",
              "    </tr>\n",
              "  </thead>\n",
              "  <tbody>\n",
              "    <tr>\n",
              "      <th>0</th>\n",
              "      <td>487</td>\n",
              "      <td>3</td>\n",
              "    </tr>\n",
              "    <tr>\n",
              "      <th>1</th>\n",
              "      <td>224</td>\n",
              "      <td>1</td>\n",
              "    </tr>\n",
              "  </tbody>\n",
              "</table>\n",
              "</div>"
            ],
            "text/plain": [
              "predicted    0  1\n",
              "actual           \n",
              "0          487  3\n",
              "1          224  1"
            ]
          },
          "metadata": {
            "tags": []
          },
          "execution_count": 64
        }
      ]
    },
    {
      "cell_type": "markdown",
      "metadata": {
        "id": "7u4l_rMLBwat",
        "colab_type": "text"
      },
      "source": [
        "#Topic Modelling \n"
      ]
    },
    {
      "cell_type": "code",
      "metadata": {
        "id": "58hUxKZo_Pid",
        "colab_type": "code",
        "outputId": "6087b1ef-5ea3-49ce-ec2b-77178660364f",
        "colab": {
          "base_uri": "https://localhost:8080/",
          "height": 88
        }
      },
      "source": [
        "import re\n",
        "import nltk\n",
        "import gensim\n",
        "from gensim.utils import simple_preprocess\n",
        "from gensim.test.utils import common_corpus, common_dictionary\n",
        "from nltk.stem import WordNetLemmatizer\n",
        "from nltk.corpus import stopwords\n",
        "nltk.download('stopwords')\n",
        "\n",
        "lemmatizer = WordNetLemmatizer()\n",
        "stop_words = stopwords.words('english')\n",
        "# stop_words.append('yeah')\n",
        "print(stopwords)"
      ],
      "execution_count": 0,
      "outputs": [
        {
          "output_type": "stream",
          "text": [
            "[nltk_data] Downloading package stopwords to /root/nltk_data...\n",
            "[nltk_data]   Unzipping corpora/stopwords.zip.\n",
            "<WordListCorpusReader in '/root/nltk_data/corpora/stopwords'>\n"
          ],
          "name": "stdout"
        }
      ]
    },
    {
      "cell_type": "code",
      "metadata": {
        "id": "_wL_J1gMCVbY",
        "colab_type": "code",
        "outputId": "c8bc3641-527d-41b9-9cfd-00ed63f1b110",
        "colab": {
          "base_uri": "https://localhost:8080/",
          "height": 1000
        }
      },
      "source": [
        "from nltk.tokenize import word_tokenize\n",
        "nltk.download('punkt')\n",
        "final_lyrics = []\n",
        "df_songs['filtered_lyrics'] = ''\n",
        "stop_words.append(\"'re\")\n",
        "try:\n",
        "  for each in range(len(df_songs)):\n",
        "    cleaned_lyrics = (re.sub(r\"[,.:;?'\\\")(!]\\d\", ' ', str(df_songs.loc[each,'lyrics']))).lower()\n",
        "    lemmatized_lyrics = lemmatizer.lemmatize(cleaned_lyrics)\n",
        "    tokenized_lyrics = word_tokenize(lemmatized_lyrics)\n",
        "    filtered_lyrics = [w for w in tokenized_lyrics if not w in stop_words]\n",
        "    filtered_lyrics = [w for w in filtered_lyrics if len(w) > 2]\n",
        "    final_lyrics.append(filtered_lyrics)\n",
        "    filtered_lyrics = ' '.join(filtered_lyrics)\n",
        "    df_songs.loc[each, 'filtered_lyrics'] = filtered_lyrics\n",
        "except:\n",
        "  pass\n",
        "\n",
        "df_songs[['lyrics','filtered_lyrics']][130:150]"
      ],
      "execution_count": 0,
      "outputs": [
        {
          "output_type": "stream",
          "text": [
            "[nltk_data] Downloading package punkt to /root/nltk_data...\n",
            "[nltk_data]   Package punkt is already up-to-date!\n"
          ],
          "name": "stdout"
        },
        {
          "output_type": "execute_result",
          "data": {
            "text/html": [
              "<div>\n",
              "<style scoped>\n",
              "    .dataframe tbody tr th:only-of-type {\n",
              "        vertical-align: middle;\n",
              "    }\n",
              "\n",
              "    .dataframe tbody tr th {\n",
              "        vertical-align: top;\n",
              "    }\n",
              "\n",
              "    .dataframe thead th {\n",
              "        text-align: right;\n",
              "    }\n",
              "</style>\n",
              "<table border=\"1\" class=\"dataframe\">\n",
              "  <thead>\n",
              "    <tr style=\"text-align: right;\">\n",
              "      <th></th>\n",
              "      <th>lyrics</th>\n",
              "      <th>filtered_lyrics</th>\n",
              "    </tr>\n",
              "  </thead>\n",
              "  <tbody>\n",
              "    <tr>\n",
              "      <th>130</th>\n",
              "      <td>Mmm… Buh, buh, buh, buh, buh, buh, buh-duh-dah...</td>\n",
              "      <td>mmm… buh buh buh buh buh buh buh-duh-dah duh d...</td>\n",
              "    </tr>\n",
              "    <tr>\n",
              "      <th>131</th>\n",
              "      <td>It's like an intuition or a feeling in the air...</td>\n",
              "      <td>like intuition feeling air intangible impressi...</td>\n",
              "    </tr>\n",
              "    <tr>\n",
              "      <th>132</th>\n",
              "      <td>I guess I\\nThought we were indivisible\\nRememb...</td>\n",
              "      <td>guess thought indivisible remember distance n'...</td>\n",
              "    </tr>\n",
              "    <tr>\n",
              "      <th>133</th>\n",
              "      <td>We're smashing mics in karaoke bars\\nYou're ru...</td>\n",
              "      <td>smashing mics karaoke bars running late half m...</td>\n",
              "    </tr>\n",
              "    <tr>\n",
              "      <th>134</th>\n",
              "      <td>Once upon a time, a few mistakes ago\\nI was in...</td>\n",
              "      <td>upon time mistakes ago sights got alone found ...</td>\n",
              "    </tr>\n",
              "    <tr>\n",
              "      <th>135</th>\n",
              "      <td>Well the comedown here was easy\\nLike the arri...</td>\n",
              "      <td>well comedown easy like arrival new day dream ...</td>\n",
              "    </tr>\n",
              "    <tr>\n",
              "      <th>136</th>\n",
              "      <td>\"Oh, don't you dare look back\\nJust keep your ...</td>\n",
              "      <td>n't dare look back keep eyes said holding back...</td>\n",
              "    </tr>\n",
              "    <tr>\n",
              "      <th>137</th>\n",
              "      <td>I've held it in my hands, I've held it in my h...</td>\n",
              "      <td>'ve held hands 've held hands dismembered soul...</td>\n",
              "    </tr>\n",
              "    <tr>\n",
              "      <th>138</th>\n",
              "      <td>Stuck in the shade\\nWhere there's no sunshine\\...</td>\n",
              "      <td>stuck shade sunshine n't wan play kids sun sin...</td>\n",
              "    </tr>\n",
              "    <tr>\n",
              "      <th>139</th>\n",
              "      <td>When you reach it, you gaze an age\\nSeldom pla...</td>\n",
              "      <td>reach gaze age seldom place word getting shape...</td>\n",
              "    </tr>\n",
              "    <tr>\n",
              "      <th>140</th>\n",
              "      <td>Here's to bein' human\\nAll the pain and suffer...</td>\n",
              "      <td>bein human pain sufferin' beauty bleedin' leas...</td>\n",
              "    </tr>\n",
              "    <tr>\n",
              "      <th>141</th>\n",
              "      <td>Hold on for a second\\nIf words can be weapons\\...</td>\n",
              "      <td>hold second words weapons say affect words rec...</td>\n",
              "    </tr>\n",
              "    <tr>\n",
              "      <th>142</th>\n",
              "      <td>When you're feeling restless and broken-hearte...</td>\n",
              "      <td>feeling restless broken-hearted n't spare time...</td>\n",
              "    </tr>\n",
              "    <tr>\n",
              "      <th>143</th>\n",
              "      <td>On a New Year's Eve\\nCelebrations full of life...</td>\n",
              "      <td>new year eve celebrations full life loss words...</td>\n",
              "    </tr>\n",
              "    <tr>\n",
              "      <th>144</th>\n",
              "      <td>There's a story of a young man\\nWho was taken ...</td>\n",
              "      <td>story young man taken home missed sister becom...</td>\n",
              "    </tr>\n",
              "    <tr>\n",
              "      <th>145</th>\n",
              "      <td>What do you know? I'm just a bad believer\\nWha...</td>\n",
              "      <td>know bad believer know know nave altar left mo...</td>\n",
              "    </tr>\n",
              "    <tr>\n",
              "      <th>146</th>\n",
              "      <td>Undo these chains, my friend\\nI'll show you th...</td>\n",
              "      <td>undo chains friend 'll show rage 've hidden pe...</td>\n",
              "    </tr>\n",
              "    <tr>\n",
              "      <th>147</th>\n",
              "      <td>We always seem to find a way to fuck things up...</td>\n",
              "      <td>always seem find way fuck things worst time kn...</td>\n",
              "    </tr>\n",
              "    <tr>\n",
              "      <th>148</th>\n",
              "      <td>Woo!\\nCan we fly, can we fly away?\\n\\nI'm sitt...</td>\n",
              "      <td>woo fly fly away sitting edge thousand stars b...</td>\n",
              "    </tr>\n",
              "    <tr>\n",
              "      <th>149</th>\n",
              "      <td>Throw me a rope, give me a leg\\nI haven't seen...</td>\n",
              "      <td>throw rope give leg n't seen daylight must day...</td>\n",
              "    </tr>\n",
              "  </tbody>\n",
              "</table>\n",
              "</div>"
            ],
            "text/plain": [
              "                                                lyrics                                    filtered_lyrics\n",
              "130  Mmm… Buh, buh, buh, buh, buh, buh, buh-duh-dah...  mmm… buh buh buh buh buh buh buh-duh-dah duh d...\n",
              "131  It's like an intuition or a feeling in the air...  like intuition feeling air intangible impressi...\n",
              "132  I guess I\\nThought we were indivisible\\nRememb...  guess thought indivisible remember distance n'...\n",
              "133  We're smashing mics in karaoke bars\\nYou're ru...  smashing mics karaoke bars running late half m...\n",
              "134  Once upon a time, a few mistakes ago\\nI was in...  upon time mistakes ago sights got alone found ...\n",
              "135  Well the comedown here was easy\\nLike the arri...  well comedown easy like arrival new day dream ...\n",
              "136  \"Oh, don't you dare look back\\nJust keep your ...  n't dare look back keep eyes said holding back...\n",
              "137  I've held it in my hands, I've held it in my h...  've held hands 've held hands dismembered soul...\n",
              "138  Stuck in the shade\\nWhere there's no sunshine\\...  stuck shade sunshine n't wan play kids sun sin...\n",
              "139  When you reach it, you gaze an age\\nSeldom pla...  reach gaze age seldom place word getting shape...\n",
              "140  Here's to bein' human\\nAll the pain and suffer...  bein human pain sufferin' beauty bleedin' leas...\n",
              "141  Hold on for a second\\nIf words can be weapons\\...  hold second words weapons say affect words rec...\n",
              "142  When you're feeling restless and broken-hearte...  feeling restless broken-hearted n't spare time...\n",
              "143  On a New Year's Eve\\nCelebrations full of life...  new year eve celebrations full life loss words...\n",
              "144  There's a story of a young man\\nWho was taken ...  story young man taken home missed sister becom...\n",
              "145  What do you know? I'm just a bad believer\\nWha...  know bad believer know know nave altar left mo...\n",
              "146  Undo these chains, my friend\\nI'll show you th...  undo chains friend 'll show rage 've hidden pe...\n",
              "147  We always seem to find a way to fuck things up...  always seem find way fuck things worst time kn...\n",
              "148  Woo!\\nCan we fly, can we fly away?\\n\\nI'm sitt...  woo fly fly away sitting edge thousand stars b...\n",
              "149  Throw me a rope, give me a leg\\nI haven't seen...  throw rope give leg n't seen daylight must day..."
            ]
          },
          "metadata": {
            "tags": []
          },
          "execution_count": 24
        }
      ]
    },
    {
      "cell_type": "code",
      "metadata": {
        "id": "uQWWuNklGTKm",
        "colab_type": "code",
        "outputId": "d13fc644-902f-4f54-ab36-956543ced5b2",
        "colab": {
          "base_uri": "https://localhost:8080/",
          "height": 173
        }
      },
      "source": [
        "dictionary = gensim.corpora.Dictionary(final_lyrics)\n",
        "dictionary.filter_extremes(no_below=1, no_above=0.5)\n",
        "\n",
        "bow_corpus = [dictionary.doc2bow(label) for label in final_lyrics]\n",
        "\n",
        "lda_model = gensim.models.LdaMulticore(bow_corpus, num_topics=4, id2word=dictionary\\\n",
        "                                       , passes=2, workers=2, chunksize=100, random_state=3)\n",
        "\n",
        "lda_model.print_topics()"
      ],
      "execution_count": 0,
      "outputs": [
        {
          "output_type": "execute_result",
          "data": {
            "text/plain": [
              "[(0,\n",
              "  '0.029*\"get\" + 0.018*\"got\" + 0.017*\"first\" + 0.017*\"scarecrow\" + 0.017*\"one\" + 0.014*\"light\" + 0.013*\"wan\" + 0.013*\"know\" + 0.010*\"burning\" + 0.009*\"guess\"'),\n",
              " (1,\n",
              "  '0.048*\"take\" + 0.044*\"gon\" + 0.027*\"gunman\" + 0.018*\"bit\" + 0.018*\"camera\" + 0.015*\"knees\" + 0.013*\"eyes\" + 0.010*\"need\" + 0.009*\"fight\" + 0.009*\"run\"'),\n",
              " (2,\n",
              "  '0.011*\"one\" + 0.008*\"\\'ll\" + 0.008*\"love\" + 0.007*\"yeah\" + 0.006*\"never\" + 0.005*\"got\" + 0.004*\"make\" + 0.004*\"lot\" + 0.004*\"say\" + 0.004*\"life\"'),\n",
              " (3,\n",
              "  '0.012*\"yeah\" + 0.007*\"got\" + 0.006*\"one\" + 0.006*\"know\" + 0.006*\"want\" + 0.006*\"back\" + 0.005*\"\\'ve\" + 0.005*\"night\" + 0.005*\"see\" + 0.004*\"love\"')]"
            ]
          },
          "metadata": {
            "tags": []
          },
          "execution_count": 25
        }
      ]
    },
    {
      "cell_type": "code",
      "metadata": {
        "id": "uhmDy6B4HCVw",
        "colab_type": "code",
        "colab": {}
      },
      "source": [
        "df_topics = df_songs\n",
        "\n",
        "df_topics['topic_0'] = 0.0\n",
        "df_topics['topic_1'] = 0.0\n",
        "df_topics['topic_2'] = 0.0\n",
        "df_topics['topic_3'] = 0.0"
      ],
      "execution_count": 0,
      "outputs": []
    },
    {
      "cell_type": "code",
      "metadata": {
        "id": "phArhGUNHGsp",
        "colab_type": "code",
        "outputId": "d68c43fd-c6f4-4074-cc69-df1246bc5f54",
        "colab": {
          "base_uri": "https://localhost:8080/",
          "height": 872
        }
      },
      "source": [
        "count = 0\n",
        "for index, row in df_topics.iterrows():\n",
        "    try:\n",
        "      bow = dictionary.doc2bow(final_lyrics[index])\n",
        "      t = lda_model.get_document_topics(bow)\n",
        "      df_topics['topic_0'].loc[index] = t[0][1]\n",
        "      df_topics['topic_1'].loc[index] = t[1][1]\n",
        "      df_topics['topic_2'].loc[index] = t[2][1]\n",
        "      df_topics['topic_3'].loc[index] = t[3][1]\n",
        "    except:\n",
        "      pass\n",
        "\n",
        "df_topics.head(10)"
      ],
      "execution_count": 0,
      "outputs": [
        {
          "output_type": "execute_result",
          "data": {
            "text/html": [
              "<div>\n",
              "<style scoped>\n",
              "    .dataframe tbody tr th:only-of-type {\n",
              "        vertical-align: middle;\n",
              "    }\n",
              "\n",
              "    .dataframe tbody tr th {\n",
              "        vertical-align: top;\n",
              "    }\n",
              "\n",
              "    .dataframe thead th {\n",
              "        text-align: right;\n",
              "    }\n",
              "</style>\n",
              "<table border=\"1\" class=\"dataframe\">\n",
              "  <thead>\n",
              "    <tr style=\"text-align: right;\">\n",
              "      <th></th>\n",
              "      <th>name</th>\n",
              "      <th>track uri</th>\n",
              "      <th>artist</th>\n",
              "      <th>followers</th>\n",
              "      <th>artist_popularity</th>\n",
              "      <th>release_date</th>\n",
              "      <th>lyrics</th>\n",
              "      <th>duration_ms</th>\n",
              "      <th>song_popularity</th>\n",
              "      <th>explicit</th>\n",
              "      <th>acousticness</th>\n",
              "      <th>danceability</th>\n",
              "      <th>energy</th>\n",
              "      <th>instrumentalness</th>\n",
              "      <th>liveness</th>\n",
              "      <th>loudness</th>\n",
              "      <th>speechiness</th>\n",
              "      <th>tempo</th>\n",
              "      <th>valence</th>\n",
              "      <th>Playlist_Name</th>\n",
              "      <th>listener_count</th>\n",
              "      <th>filtered_lyrics</th>\n",
              "      <th>Topic0</th>\n",
              "      <th>Topic1</th>\n",
              "      <th>Topic2</th>\n",
              "      <th>Topic3</th>\n",
              "      <th>dominant_topic</th>\n",
              "      <th>sentiment</th>\n",
              "      <th>Hit</th>\n",
              "      <th>topic_0</th>\n",
              "      <th>topic_1</th>\n",
              "      <th>topic_2</th>\n",
              "      <th>topic_3</th>\n",
              "    </tr>\n",
              "  </thead>\n",
              "  <tbody>\n",
              "    <tr>\n",
              "      <th>0</th>\n",
              "      <td>God Is Dead?</td>\n",
              "      <td>spotify:track:42wFRybIJ2n5RoD7r9R8Rz</td>\n",
              "      <td>Black Sabbath</td>\n",
              "      <td>4027757</td>\n",
              "      <td>77</td>\n",
              "      <td>1/1/2013</td>\n",
              "      <td>Lost in the darkness\\nI fade from the light\\nF...</td>\n",
              "      <td>532266</td>\n",
              "      <td>2</td>\n",
              "      <td>False</td>\n",
              "      <td>0.000187</td>\n",
              "      <td>0.378</td>\n",
              "      <td>0.733</td>\n",
              "      <td>0.001950</td>\n",
              "      <td>0.0582</td>\n",
              "      <td>-4.935</td>\n",
              "      <td>0.0331</td>\n",
              "      <td>118.454</td>\n",
              "      <td>0.164</td>\n",
              "      <td>Top 100 Metal Tracks on Spotify</td>\n",
              "      <td>139370.0</td>\n",
              "      <td>lost darkness fade light faith father brother ...</td>\n",
              "      <td>0.00</td>\n",
              "      <td>0.94</td>\n",
              "      <td>0.00</td>\n",
              "      <td>0.06</td>\n",
              "      <td>1</td>\n",
              "      <td>-0.9951</td>\n",
              "      <td>1</td>\n",
              "      <td>0.995083</td>\n",
              "      <td>0.000000</td>\n",
              "      <td>0.000000</td>\n",
              "      <td>0.000000</td>\n",
              "    </tr>\n",
              "    <tr>\n",
              "      <th>1</th>\n",
              "      <td>The Enemy Inside</td>\n",
              "      <td>spotify:track:1ZR4QAYsiO9zPsGaMPW2OI</td>\n",
              "      <td>Dream Theater</td>\n",
              "      <td>941336</td>\n",
              "      <td>68</td>\n",
              "      <td>9/16/2013</td>\n",
              "      <td>Over and over again\\nI relive the moment\\nI'm ...</td>\n",
              "      <td>377373</td>\n",
              "      <td>52</td>\n",
              "      <td>False</td>\n",
              "      <td>0.000012</td>\n",
              "      <td>0.488</td>\n",
              "      <td>0.976</td>\n",
              "      <td>0.029500</td>\n",
              "      <td>0.0670</td>\n",
              "      <td>-4.165</td>\n",
              "      <td>0.1420</td>\n",
              "      <td>143.988</td>\n",
              "      <td>0.404</td>\n",
              "      <td>Top 100 Metal Tracks on Spotify</td>\n",
              "      <td>72344.0</td>\n",
              "      <td>relive moment bearing burden within open wound...</td>\n",
              "      <td>0.00</td>\n",
              "      <td>0.49</td>\n",
              "      <td>0.00</td>\n",
              "      <td>0.50</td>\n",
              "      <td>3</td>\n",
              "      <td>-0.9962</td>\n",
              "      <td>1</td>\n",
              "      <td>0.992551</td>\n",
              "      <td>0.000000</td>\n",
              "      <td>0.000000</td>\n",
              "      <td>0.000000</td>\n",
              "    </tr>\n",
              "    <tr>\n",
              "      <th>2</th>\n",
              "      <td>Temper Temper</td>\n",
              "      <td>spotify:track:2weyHZ3Rk4PZVZODz1asqz</td>\n",
              "      <td>Bullet For My Valentine</td>\n",
              "      <td>1767902</td>\n",
              "      <td>73</td>\n",
              "      <td>2/8/2013</td>\n",
              "      <td>This time you'd better bite your tongue\\nThink...</td>\n",
              "      <td>188866</td>\n",
              "      <td>49</td>\n",
              "      <td>False</td>\n",
              "      <td>0.001560</td>\n",
              "      <td>0.439</td>\n",
              "      <td>0.987</td>\n",
              "      <td>0.000016</td>\n",
              "      <td>0.4240</td>\n",
              "      <td>-3.576</td>\n",
              "      <td>0.2200</td>\n",
              "      <td>163.393</td>\n",
              "      <td>0.378</td>\n",
              "      <td>Top 100 Metal Tracks on Spotify</td>\n",
              "      <td>58497.0</td>\n",
              "      <td>time better bite tongue think twice open mouth...</td>\n",
              "      <td>0.00</td>\n",
              "      <td>0.22</td>\n",
              "      <td>0.33</td>\n",
              "      <td>0.45</td>\n",
              "      <td>3</td>\n",
              "      <td>-0.9970</td>\n",
              "      <td>0</td>\n",
              "      <td>0.732357</td>\n",
              "      <td>0.064657</td>\n",
              "      <td>0.201336</td>\n",
              "      <td>0.000000</td>\n",
              "    </tr>\n",
              "    <tr>\n",
              "      <th>3</th>\n",
              "      <td>Heartbreaker</td>\n",
              "      <td>spotify:track:7GwtlmQVrqyoggPraFXXvJ</td>\n",
              "      <td>Motörhead</td>\n",
              "      <td>1966405</td>\n",
              "      <td>70</td>\n",
              "      <td>10/18/2013</td>\n",
              "      <td>Careful where you stand now boy\\nEverything ha...</td>\n",
              "      <td>185016</td>\n",
              "      <td>41</td>\n",
              "      <td>False</td>\n",
              "      <td>0.000103</td>\n",
              "      <td>0.452</td>\n",
              "      <td>0.995</td>\n",
              "      <td>0.359000</td>\n",
              "      <td>0.2040</td>\n",
              "      <td>-3.958</td>\n",
              "      <td>0.0752</td>\n",
              "      <td>100.043</td>\n",
              "      <td>0.237</td>\n",
              "      <td>Top 100 Metal Tracks on Spotify</td>\n",
              "      <td>47733.0</td>\n",
              "      <td>careful stand boy everything changed got searc...</td>\n",
              "      <td>0.00</td>\n",
              "      <td>0.56</td>\n",
              "      <td>0.07</td>\n",
              "      <td>0.37</td>\n",
              "      <td>1</td>\n",
              "      <td>-0.9947</td>\n",
              "      <td>0</td>\n",
              "      <td>0.316445</td>\n",
              "      <td>0.048767</td>\n",
              "      <td>0.206367</td>\n",
              "      <td>0.428421</td>\n",
              "    </tr>\n",
              "    <tr>\n",
              "      <th>4</th>\n",
              "      <td>End Of The Beginning</td>\n",
              "      <td>spotify:track:4ZDRzrXIW3EdC5FR0HGi3v</td>\n",
              "      <td>Black Sabbath</td>\n",
              "      <td>4027757</td>\n",
              "      <td>77</td>\n",
              "      <td>1/1/2013</td>\n",
              "      <td>Is this the end of the beginning\\nOr the begin...</td>\n",
              "      <td>486226</td>\n",
              "      <td>0</td>\n",
              "      <td>False</td>\n",
              "      <td>0.000083</td>\n",
              "      <td>0.309</td>\n",
              "      <td>0.882</td>\n",
              "      <td>0.107000</td>\n",
              "      <td>0.0976</td>\n",
              "      <td>-4.054</td>\n",
              "      <td>0.0629</td>\n",
              "      <td>123.558</td>\n",
              "      <td>0.174</td>\n",
              "      <td>Top 100 Metal Tracks on Spotify</td>\n",
              "      <td>111701.0</td>\n",
              "      <td>end beginning beginning end losing control win...</td>\n",
              "      <td>0.00</td>\n",
              "      <td>0.32</td>\n",
              "      <td>0.09</td>\n",
              "      <td>0.59</td>\n",
              "      <td>3</td>\n",
              "      <td>0.9807</td>\n",
              "      <td>1</td>\n",
              "      <td>0.541306</td>\n",
              "      <td>0.176790</td>\n",
              "      <td>0.279262</td>\n",
              "      <td>0.000000</td>\n",
              "    </tr>\n",
              "    <tr>\n",
              "      <th>5</th>\n",
              "      <td>Breaking Point</td>\n",
              "      <td>spotify:track:5duR1jvJ2E0IOoYresQIkQ</td>\n",
              "      <td>Bullet For My Valentine</td>\n",
              "      <td>1767902</td>\n",
              "      <td>73</td>\n",
              "      <td>2/8/2013</td>\n",
              "      <td>Spinning out mind (poison)\\nThat's headache ta...</td>\n",
              "      <td>222453</td>\n",
              "      <td>48</td>\n",
              "      <td>False</td>\n",
              "      <td>0.000485</td>\n",
              "      <td>0.319</td>\n",
              "      <td>0.967</td>\n",
              "      <td>0.000103</td>\n",
              "      <td>0.3150</td>\n",
              "      <td>-3.485</td>\n",
              "      <td>0.1240</td>\n",
              "      <td>147.947</td>\n",
              "      <td>0.269</td>\n",
              "      <td>Top 100 Metal Tracks on Spotify</td>\n",
              "      <td>52012.0</td>\n",
              "      <td>spinning mind poison headache taste tip tongue...</td>\n",
              "      <td>0.00</td>\n",
              "      <td>0.87</td>\n",
              "      <td>0.00</td>\n",
              "      <td>0.12</td>\n",
              "      <td>1</td>\n",
              "      <td>-0.9569</td>\n",
              "      <td>0</td>\n",
              "      <td>0.353509</td>\n",
              "      <td>0.641822</td>\n",
              "      <td>0.000000</td>\n",
              "      <td>0.000000</td>\n",
              "    </tr>\n",
              "    <tr>\n",
              "      <th>6</th>\n",
              "      <td>Yesterday Don't Mean Shit</td>\n",
              "      <td>spotify:track:4W4g7CnyIJbz3sDyNNMZ8z</td>\n",
              "      <td>Pantera</td>\n",
              "      <td>2352736</td>\n",
              "      <td>72</td>\n",
              "      <td>8/30/2013</td>\n",
              "      <td>There's nothing special about it \\nIt's either...</td>\n",
              "      <td>259693</td>\n",
              "      <td>22</td>\n",
              "      <td>True</td>\n",
              "      <td>0.000033</td>\n",
              "      <td>0.347</td>\n",
              "      <td>0.991</td>\n",
              "      <td>0.100000</td>\n",
              "      <td>0.3140</td>\n",
              "      <td>-2.444</td>\n",
              "      <td>0.1600</td>\n",
              "      <td>146.478</td>\n",
              "      <td>0.449</td>\n",
              "      <td>Top 100 Metal Tracks on Spotify</td>\n",
              "      <td>58148.0</td>\n",
              "      <td>nothing special either born gifted talent big ...</td>\n",
              "      <td>0.32</td>\n",
              "      <td>0.50</td>\n",
              "      <td>0.18</td>\n",
              "      <td>0.00</td>\n",
              "      <td>1</td>\n",
              "      <td>0.9480</td>\n",
              "      <td>0</td>\n",
              "      <td>0.993249</td>\n",
              "      <td>0.000000</td>\n",
              "      <td>0.000000</td>\n",
              "      <td>0.000000</td>\n",
              "    </tr>\n",
              "    <tr>\n",
              "      <th>7</th>\n",
              "      <td>The Looking Glass</td>\n",
              "      <td>spotify:track:5l79BZlSp7p8rBiUAvtTLI</td>\n",
              "      <td>Dream Theater</td>\n",
              "      <td>941336</td>\n",
              "      <td>68</td>\n",
              "      <td>9/16/2013</td>\n",
              "      <td>I would not expect you felt unnoticed and igno...</td>\n",
              "      <td>293066</td>\n",
              "      <td>42</td>\n",
              "      <td>False</td>\n",
              "      <td>0.000037</td>\n",
              "      <td>0.518</td>\n",
              "      <td>0.960</td>\n",
              "      <td>0.000026</td>\n",
              "      <td>0.2190</td>\n",
              "      <td>-3.972</td>\n",
              "      <td>0.0661</td>\n",
              "      <td>137.980</td>\n",
              "      <td>0.598</td>\n",
              "      <td>Top 100 Metal Tracks on Spotify</td>\n",
              "      <td>49209.0</td>\n",
              "      <td>would expect felt unnoticed ignored better ris...</td>\n",
              "      <td>0.00</td>\n",
              "      <td>0.99</td>\n",
              "      <td>0.00</td>\n",
              "      <td>0.00</td>\n",
              "      <td>1</td>\n",
              "      <td>0.9857</td>\n",
              "      <td>0</td>\n",
              "      <td>0.992329</td>\n",
              "      <td>0.000000</td>\n",
              "      <td>0.000000</td>\n",
              "      <td>0.000000</td>\n",
              "    </tr>\n",
              "    <tr>\n",
              "      <th>8</th>\n",
              "      <td>Ride the Lightning (Live)</td>\n",
              "      <td>spotify:track:1w3r4q8rgcc2WVHZPUuEnO</td>\n",
              "      <td>Metallica</td>\n",
              "      <td>12406259</td>\n",
              "      <td>85</td>\n",
              "      <td>2013</td>\n",
              "      <td>Guilty as charged but damn it, it ain't right\\...</td>\n",
              "      <td>414306</td>\n",
              "      <td>33</td>\n",
              "      <td>False</td>\n",
              "      <td>0.000105</td>\n",
              "      <td>0.277</td>\n",
              "      <td>0.933</td>\n",
              "      <td>0.105000</td>\n",
              "      <td>0.9520</td>\n",
              "      <td>-8.073</td>\n",
              "      <td>0.0565</td>\n",
              "      <td>153.551</td>\n",
              "      <td>0.366</td>\n",
              "      <td>Top 100 Metal Tracks on Spotify</td>\n",
              "      <td>30691.0</td>\n",
              "      <td>guilty charged damn n't right someone else con...</td>\n",
              "      <td>0.00</td>\n",
              "      <td>0.99</td>\n",
              "      <td>0.00</td>\n",
              "      <td>0.00</td>\n",
              "      <td>1</td>\n",
              "      <td>-0.9796</td>\n",
              "      <td>0</td>\n",
              "      <td>0.497883</td>\n",
              "      <td>0.114937</td>\n",
              "      <td>0.282290</td>\n",
              "      <td>0.104890</td>\n",
              "    </tr>\n",
              "    <tr>\n",
              "      <th>9</th>\n",
              "      <td>Coup de Grace</td>\n",
              "      <td>spotify:track:0ibDhZncUAEjILJJlTUQpS</td>\n",
              "      <td>Motörhead</td>\n",
              "      <td>1966405</td>\n",
              "      <td>70</td>\n",
              "      <td>10/18/2013</td>\n",
              "      <td>Make it quick\\nThe Coup de Grace\\nMakes you de...</td>\n",
              "      <td>225464</td>\n",
              "      <td>29</td>\n",
              "      <td>False</td>\n",
              "      <td>0.000332</td>\n",
              "      <td>0.409</td>\n",
              "      <td>0.988</td>\n",
              "      <td>0.003670</td>\n",
              "      <td>0.2790</td>\n",
              "      <td>-4.388</td>\n",
              "      <td>0.0533</td>\n",
              "      <td>94.028</td>\n",
              "      <td>0.357</td>\n",
              "      <td>Top 100 Metal Tracks on Spotify</td>\n",
              "      <td>32796.0</td>\n",
              "      <td>make quick coup grace makes dead kills ass giv...</td>\n",
              "      <td>0.15</td>\n",
              "      <td>0.44</td>\n",
              "      <td>0.33</td>\n",
              "      <td>0.08</td>\n",
              "      <td>1</td>\n",
              "      <td>-0.9691</td>\n",
              "      <td>0</td>\n",
              "      <td>0.537147</td>\n",
              "      <td>0.052864</td>\n",
              "      <td>0.163094</td>\n",
              "      <td>0.246895</td>\n",
              "    </tr>\n",
              "  </tbody>\n",
              "</table>\n",
              "</div>"
            ],
            "text/plain": [
              "                        name  ...   topic_3\n",
              "0               God Is Dead?  ...  0.000000\n",
              "1           The Enemy Inside  ...  0.000000\n",
              "2              Temper Temper  ...  0.000000\n",
              "3               Heartbreaker  ...  0.428421\n",
              "4       End Of The Beginning  ...  0.000000\n",
              "5             Breaking Point  ...  0.000000\n",
              "6  Yesterday Don't Mean Shit  ...  0.000000\n",
              "7          The Looking Glass  ...  0.000000\n",
              "8  Ride the Lightning (Live)  ...  0.104890\n",
              "9              Coup de Grace  ...  0.246895\n",
              "\n",
              "[10 rows x 33 columns]"
            ]
          },
          "metadata": {
            "tags": []
          },
          "execution_count": 27
        }
      ]
    },
    {
      "cell_type": "markdown",
      "metadata": {
        "id": "oXHtsg2V_yqp",
        "colab_type": "text"
      },
      "source": [
        "#Recommendation System\n"
      ]
    },
    {
      "cell_type": "code",
      "metadata": {
        "id": "V-Vfmc_5_4k4",
        "colab_type": "code",
        "colab": {}
      },
      "source": [
        "# from scipy.spatial.distance import cosine\n",
        "\n",
        "# s = \"This concept of distance is not restricted to two dimensions.\"\n",
        "# list_s = [\"It is not difficult to imagine the figure above translated into three dimensions.\", \"We can persuade ourselves that the measure of distance extends to an arbitrary number of dimensions;\"]\n",
        "\n",
        "# X = tfidf.fit_transform([s] + list_s)\n",
        "\n",
        "# from sklearn.feature_extraction.text import TfidfVectorizer\n",
        "# tfidf = TfidfVectorizer(norm='l2', min_df=0, use_idf=True, smooth_idf=False, sublinear_tf=True,tokenizer=LemmaTokenizer())\n",
        "# bow_matrix = tfidf.fit_transform([s, ' '.join(list_s)])\n",
        "\n",
        "# cosine(X[0].toarray(), X[1].toarray()) # cosine between s and 1st sentence\n",
        "\n",
        "# # print(X)\n",
        "# # print(type(X))\n",
        "# # print(type(combined))\n",
        "# # print(combined)"
      ],
      "execution_count": 0,
      "outputs": []
    },
    {
      "cell_type": "code",
      "metadata": {
        "id": "I53sawePJHIB",
        "colab_type": "code",
        "outputId": "68d7e8ce-2281-427e-efb0-29b872ee65dd",
        "colab": {
          "base_uri": "https://localhost:8080/",
          "height": 51
        }
      },
      "source": [
        "documents = (\n",
        "\"The sky is blue\",\n",
        "\"The sun is bright\",\n",
        "\"The sun in the sky is bright\",\n",
        "\"We can see the shining sun, the bright sun\"\n",
        ")\n",
        "\n",
        "from sklearn.metrics.pairwise import cosine_similarity\n",
        "from sklearn.feature_extraction.text import TfidfVectorizer\n",
        "tfidf_vectorizer = TfidfVectorizer()\n",
        "tfidf_matrix = tfidf_vectorizer.fit_transform(documents)\n",
        "print(tfidf_matrix.shape)\n",
        "\n",
        "cosine_similarity(tfidf_matrix[0:1], tfidf_matrix)"
      ],
      "execution_count": 0,
      "outputs": [
        {
          "output_type": "stream",
          "text": [
            "(4, 11)\n"
          ],
          "name": "stdout"
        },
        {
          "output_type": "execute_result",
          "data": {
            "text/plain": [
              "array([[1.        , 0.36651513, 0.52305744, 0.13448867]])"
            ]
          },
          "metadata": {
            "tags": []
          },
          "execution_count": 29
        }
      ]
    },
    {
      "cell_type": "code",
      "metadata": {
        "id": "kSpEwrIhFsS-",
        "colab_type": "code",
        "colab": {}
      },
      "source": [
        "cv=CountVectorizer(tokenizer=LemmaTokenizer(), ngram_range=(1,2), stop_words='english', max_features=1250)\n",
        "word_count_vector=cv.fit_transform(df_songs.lyrics.values)\n",
        "tfidf_transformer=TfidfTransformer(smooth_idf=True,use_idf=True)\n",
        "tfidf_transformer.fit(word_count_vector)\n",
        "# tf-idf scores\n",
        "tf_idf_vector=tfidf_transformer.transform(word_count_vector)"
      ],
      "execution_count": 0,
      "outputs": []
    },
    {
      "cell_type": "code",
      "metadata": {
        "id": "AC_ry3h3nX89",
        "colab_type": "code",
        "outputId": "d917852c-9071-4e62-f897-187e7762c381",
        "colab": {
          "base_uri": "https://localhost:8080/",
          "height": 221
        }
      },
      "source": [
        "# Recommendation Based on features of the song - Recommendation 1\n",
        "df = df_songs[['acousticness', 'danceability', 'energy', 'liveness', 'loudness', 'speechiness', 'tempo', 'valence','artist_popularity']]\n",
        "mms = MinMaxScaler()\n",
        "mms.fit(df)\n",
        "data_transformed = mms.transform(df)\n",
        "index=265 #- Shape of you\n",
        "#index= 1448 #- Boulevard of Broken Dreams\n",
        "\n",
        "cosine_similarities=cosine_similarity(data_transformed)\n",
        "related_song_indices = cosine_similarities.argsort()[index][:-7:-1]\n",
        "recom=list(related_song_indices)\n",
        "\n",
        "for i in recom:\n",
        "  print(df_songs.iloc[[i]][['name','artist']] )"
      ],
      "execution_count": 0,
      "outputs": [
        {
          "output_type": "stream",
          "text": [
            "             name      artist\n",
            "267  Shape of You  Ed Sheeran\n",
            "                name      artist\n",
            "1690  Bibia Be Ye Ye  Ed Sheeran\n",
            "                     name        artist\n",
            "1405  Written in the Sand  Old Dominion\n",
            "       name  artist\n",
            "2552  Drown  Clairo\n",
            "                       name artist\n",
            "912  Englishman In New York  Sting\n",
            "                  name         artist\n",
            "642  What Do You Mean?  Justin Bieber\n"
          ],
          "name": "stdout"
        }
      ]
    },
    {
      "cell_type": "code",
      "metadata": {
        "id": "oC3va2Xps6wL",
        "colab_type": "code",
        "outputId": "2662546e-3ff3-4323-cdef-e0d918994178",
        "colab": {
          "base_uri": "https://localhost:8080/",
          "height": 221
        }
      },
      "source": [
        "# with respect to one song how similar is this only based on TF-IDF # - Recommendation 2\n",
        "from sklearn.metrics.pairwise import linear_kernel\n",
        "\n",
        "cosine_similarities = linear_kernel(tf_idf_vector[index:index+1], tf_idf_vector).flatten()\n",
        "related_song_indices = cosine_similarities.argsort()[:-7:-1]\n",
        "recom=list(related_song_indices)\n",
        "\n",
        "for i in recom:\n",
        "  print(df_songs.iloc[[i]][['name','artist']] )\n"
      ],
      "execution_count": 0,
      "outputs": [
        {
          "output_type": "stream",
          "text": [
            "             name      artist\n",
            "267  Shape of You  Ed Sheeran\n",
            "                  name            artist\n",
            "1236  Me and Your Mama  Childish Gambino\n",
            "      name        artist\n",
            "1586  CoCo  O.T. Genasis\n",
            "                    name      artist\n",
            "412  I Think I'm In Love  Kat Dahlia\n",
            "                   name      artist\n",
            "634  Can't Feel My Face  The Weeknd\n",
            "                    name artist\n",
            "2363  Nothin to Somethin    Syd\n"
          ],
          "name": "stdout"
        }
      ]
    },
    {
      "cell_type": "code",
      "metadata": {
        "id": "D_mFLYji87lQ",
        "colab_type": "code",
        "outputId": "29f6ff28-8c22-4584-e5bb-8315c49b88a7",
        "colab": {
          "base_uri": "https://localhost:8080/",
          "height": 221
        }
      },
      "source": [
        "#Recommendation - 3\n",
        "\n",
        "df = df_songs[['acousticness', 'danceability', 'energy', 'liveness', 'loudness', 'speechiness', 'tempo', 'valence','artist_popularity','Topic0','Topic1','Topic2','Topic3','sentiment']]\n",
        "\n",
        "mms = MinMaxScaler() # better of all\n",
        "mms.fit(df)\n",
        "data_transformed = mms.transform(df)\n",
        "\n",
        "combined_scaled= sparse.hstack([tf_idf_vector, sparse.csr_matrix(data_transformed)])\n",
        "combined_scaled=sparse.csr_matrix(combined_scaled)\n",
        "\n",
        "cosine_similarities = linear_kernel(combined_scaled[index:index+1], combined_scaled).flatten()\n",
        "related_song_indices = cosine_similarities.argsort()[:-7:-1]\n",
        "recom=list(related_song_indices)\n",
        "\n",
        "for i in recom:\n",
        "  print(df_songs.iloc[[i]][['name','artist']] )\n"
      ],
      "execution_count": 0,
      "outputs": [
        {
          "output_type": "stream",
          "text": [
            "             name      artist\n",
            "267  Shape of You  Ed Sheeran\n",
            "         name      artist\n",
            "1707  Peacock  Katy Perry\n",
            "          name artist\n",
            "2871  Mad Love  Mabel\n",
            "          name      artist\n",
            "1495  Treasure  Bruno Mars\n",
            "                  name         artist\n",
            "642  What Do You Mean?  Justin Bieber\n",
            "       name             artist\n",
            "1035  Happy  Pharrell Williams\n"
          ],
          "name": "stdout"
        }
      ]
    },
    {
      "cell_type": "markdown",
      "metadata": {
        "id": "SOnvZYfxNccZ",
        "colab_type": "text"
      },
      "source": [
        "#Linear Regression\n"
      ]
    },
    {
      "cell_type": "code",
      "metadata": {
        "id": "ehIJGxAsNnXF",
        "colab_type": "code",
        "colab": {}
      },
      "source": [
        "id='1PgCL1w8A772WOFLiDnr2uSNZrF_oPb_m'\n",
        "id1='1IQ8DompPHeBJB13Z9DbWRKxVH8TqTNwg'\n",
        "downloaded = drive.CreateFile({'id':id}) \n",
        "downloaded.GetContentFile('reg.csv')\n",
        "\n"
      ],
      "execution_count": 0,
      "outputs": []
    },
    {
      "cell_type": "code",
      "metadata": {
        "id": "vOUtOQQbPCxQ",
        "colab_type": "code",
        "outputId": "c167635c-bcef-423a-dbe2-286eebf780dd",
        "colab": {
          "base_uri": "https://localhost:8080/",
          "height": 250
        }
      },
      "source": [
        "df_reg_raw = pd.read_csv('reg.csv')\n",
        "df_reg_raw.head(2)"
      ],
      "execution_count": 0,
      "outputs": [
        {
          "output_type": "execute_result",
          "data": {
            "text/html": [
              "<div>\n",
              "<style scoped>\n",
              "    .dataframe tbody tr th:only-of-type {\n",
              "        vertical-align: middle;\n",
              "    }\n",
              "\n",
              "    .dataframe tbody tr th {\n",
              "        vertical-align: top;\n",
              "    }\n",
              "\n",
              "    .dataframe thead th {\n",
              "        text-align: right;\n",
              "    }\n",
              "</style>\n",
              "<table border=\"1\" class=\"dataframe\">\n",
              "  <thead>\n",
              "    <tr style=\"text-align: right;\">\n",
              "      <th></th>\n",
              "      <th>name</th>\n",
              "      <th>track uri</th>\n",
              "      <th>artist</th>\n",
              "      <th>followers</th>\n",
              "      <th>artist_popularity</th>\n",
              "      <th>song_age</th>\n",
              "      <th>lyrics</th>\n",
              "      <th>duration_ms</th>\n",
              "      <th>song_popularity</th>\n",
              "      <th>explicit</th>\n",
              "      <th>acousticness</th>\n",
              "      <th>danceability</th>\n",
              "      <th>energy</th>\n",
              "      <th>instrumentalness</th>\n",
              "      <th>liveness</th>\n",
              "      <th>loudness</th>\n",
              "      <th>speechiness</th>\n",
              "      <th>tempo</th>\n",
              "      <th>valence</th>\n",
              "      <th>Playlist_Name</th>\n",
              "      <th>Hit</th>\n",
              "      <th>filtered_lyrics</th>\n",
              "      <th>Topic0</th>\n",
              "      <th>Topic1</th>\n",
              "      <th>Topic2</th>\n",
              "      <th>Topic3</th>\n",
              "      <th>dominant_topic</th>\n",
              "      <th>sentiment</th>\n",
              "      <th>listener_count</th>\n",
              "    </tr>\n",
              "  </thead>\n",
              "  <tbody>\n",
              "    <tr>\n",
              "      <th>0</th>\n",
              "      <td>God Is Dead?</td>\n",
              "      <td>spotify:track:42wFRybIJ2n5RoD7r9R8Rz</td>\n",
              "      <td>Black Sabbath</td>\n",
              "      <td>4025378</td>\n",
              "      <td>76</td>\n",
              "      <td>6</td>\n",
              "      <td>Lost in the darkness\\nI fade from the light\\nF...</td>\n",
              "      <td>532266</td>\n",
              "      <td>2</td>\n",
              "      <td>False</td>\n",
              "      <td>0.000187</td>\n",
              "      <td>0.378</td>\n",
              "      <td>0.733</td>\n",
              "      <td>0.00195</td>\n",
              "      <td>0.0582</td>\n",
              "      <td>-4.935</td>\n",
              "      <td>0.0331</td>\n",
              "      <td>118.454</td>\n",
              "      <td>0.164</td>\n",
              "      <td>Top 100 Metal Tracks on Spotify</td>\n",
              "      <td>1</td>\n",
              "      <td>lost darkness fade light faith father brother ...</td>\n",
              "      <td>0.00</td>\n",
              "      <td>0.99</td>\n",
              "      <td>0.0</td>\n",
              "      <td>0.0</td>\n",
              "      <td>1</td>\n",
              "      <td>-0.9951</td>\n",
              "      <td>139328</td>\n",
              "    </tr>\n",
              "    <tr>\n",
              "      <th>1</th>\n",
              "      <td>The Enemy Inside</td>\n",
              "      <td>spotify:track:1ZR4QAYsiO9zPsGaMPW2OI</td>\n",
              "      <td>Dream Theater</td>\n",
              "      <td>940836</td>\n",
              "      <td>68</td>\n",
              "      <td>6</td>\n",
              "      <td>Over and over again\\nI relive the moment\\nI'm ...</td>\n",
              "      <td>377373</td>\n",
              "      <td>52</td>\n",
              "      <td>False</td>\n",
              "      <td>0.000012</td>\n",
              "      <td>0.488</td>\n",
              "      <td>0.976</td>\n",
              "      <td>0.02950</td>\n",
              "      <td>0.0670</td>\n",
              "      <td>-4.165</td>\n",
              "      <td>0.1420</td>\n",
              "      <td>143.988</td>\n",
              "      <td>0.404</td>\n",
              "      <td>Top 100 Metal Tracks on Spotify</td>\n",
              "      <td>1</td>\n",
              "      <td>relive moment bearing burden within open wound...</td>\n",
              "      <td>0.05</td>\n",
              "      <td>0.95</td>\n",
              "      <td>0.0</td>\n",
              "      <td>0.0</td>\n",
              "      <td>1</td>\n",
              "      <td>-0.9962</td>\n",
              "      <td>72321</td>\n",
              "    </tr>\n",
              "  </tbody>\n",
              "</table>\n",
              "</div>"
            ],
            "text/plain": [
              "               name  ... listener_count\n",
              "0      God Is Dead?  ...         139328\n",
              "1  The Enemy Inside  ...          72321\n",
              "\n",
              "[2 rows x 29 columns]"
            ]
          },
          "metadata": {
            "tags": []
          },
          "execution_count": 36
        }
      ]
    },
    {
      "cell_type": "code",
      "metadata": {
        "id": "AqdWhUq5RPD9",
        "colab_type": "code",
        "outputId": "62254cfa-3af0-4d8b-e579-8d309009d09d",
        "colab": {
          "base_uri": "https://localhost:8080/",
          "height": 168
        }
      },
      "source": [
        "df_reg=df_reg_raw.drop_duplicates()\n",
        "\n",
        "df_reg.head(1)"
      ],
      "execution_count": 0,
      "outputs": [
        {
          "output_type": "execute_result",
          "data": {
            "text/html": [
              "<div>\n",
              "<style scoped>\n",
              "    .dataframe tbody tr th:only-of-type {\n",
              "        vertical-align: middle;\n",
              "    }\n",
              "\n",
              "    .dataframe tbody tr th {\n",
              "        vertical-align: top;\n",
              "    }\n",
              "\n",
              "    .dataframe thead th {\n",
              "        text-align: right;\n",
              "    }\n",
              "</style>\n",
              "<table border=\"1\" class=\"dataframe\">\n",
              "  <thead>\n",
              "    <tr style=\"text-align: right;\">\n",
              "      <th></th>\n",
              "      <th>name</th>\n",
              "      <th>track uri</th>\n",
              "      <th>artist</th>\n",
              "      <th>followers</th>\n",
              "      <th>artist_popularity</th>\n",
              "      <th>song_age</th>\n",
              "      <th>lyrics</th>\n",
              "      <th>duration_ms</th>\n",
              "      <th>song_popularity</th>\n",
              "      <th>explicit</th>\n",
              "      <th>acousticness</th>\n",
              "      <th>danceability</th>\n",
              "      <th>energy</th>\n",
              "      <th>instrumentalness</th>\n",
              "      <th>liveness</th>\n",
              "      <th>loudness</th>\n",
              "      <th>speechiness</th>\n",
              "      <th>tempo</th>\n",
              "      <th>valence</th>\n",
              "      <th>Playlist_Name</th>\n",
              "      <th>Hit</th>\n",
              "      <th>filtered_lyrics</th>\n",
              "      <th>Topic0</th>\n",
              "      <th>Topic1</th>\n",
              "      <th>Topic2</th>\n",
              "      <th>Topic3</th>\n",
              "      <th>dominant_topic</th>\n",
              "      <th>sentiment</th>\n",
              "      <th>listener_count</th>\n",
              "    </tr>\n",
              "  </thead>\n",
              "  <tbody>\n",
              "    <tr>\n",
              "      <th>0</th>\n",
              "      <td>God Is Dead?</td>\n",
              "      <td>spotify:track:42wFRybIJ2n5RoD7r9R8Rz</td>\n",
              "      <td>Black Sabbath</td>\n",
              "      <td>4025378</td>\n",
              "      <td>76</td>\n",
              "      <td>6</td>\n",
              "      <td>Lost in the darkness\\nI fade from the light\\nF...</td>\n",
              "      <td>532266</td>\n",
              "      <td>2</td>\n",
              "      <td>False</td>\n",
              "      <td>0.000187</td>\n",
              "      <td>0.378</td>\n",
              "      <td>0.733</td>\n",
              "      <td>0.00195</td>\n",
              "      <td>0.0582</td>\n",
              "      <td>-4.935</td>\n",
              "      <td>0.0331</td>\n",
              "      <td>118.454</td>\n",
              "      <td>0.164</td>\n",
              "      <td>Top 100 Metal Tracks on Spotify</td>\n",
              "      <td>1</td>\n",
              "      <td>lost darkness fade light faith father brother ...</td>\n",
              "      <td>0.0</td>\n",
              "      <td>0.99</td>\n",
              "      <td>0.0</td>\n",
              "      <td>0.0</td>\n",
              "      <td>1</td>\n",
              "      <td>-0.9951</td>\n",
              "      <td>139328</td>\n",
              "    </tr>\n",
              "  </tbody>\n",
              "</table>\n",
              "</div>"
            ],
            "text/plain": [
              "           name  ... listener_count\n",
              "0  God Is Dead?  ...         139328\n",
              "\n",
              "[1 rows x 29 columns]"
            ]
          },
          "metadata": {
            "tags": []
          },
          "execution_count": 37
        }
      ]
    },
    {
      "cell_type": "code",
      "metadata": {
        "id": "0DB6klT4RIxm",
        "colab_type": "code",
        "colab": {}
      },
      "source": [
        "y=df_reg['listener_count']\n",
        "X2=df_reg[['acousticness', 'danceability', 'energy', 'liveness', 'loudness', 'speechiness', 'tempo', 'valence','artist_popularity','Topic0','Topic1','Topic2','Topic3','sentiment']]\n",
        "X3=df_reg[['acousticness', 'danceability', 'energy', 'liveness', 'loudness', 'speechiness', 'tempo', 'valence','artist_popularity','Topic0','Topic1','Topic2','Topic3','sentiment']]\n",
        "\n",
        "#Train-test Split and Fitting the model\n",
        "x_train, x_test, y_train, y_test = train_test_split(X2, y, test_size=0.25, random_state=0)"
      ],
      "execution_count": 0,
      "outputs": []
    },
    {
      "cell_type": "code",
      "metadata": {
        "id": "PxBH2qq_Nge0",
        "colab_type": "code",
        "outputId": "e393ddeb-630b-45c9-ffe3-2208a13b805d",
        "colab": {
          "base_uri": "https://localhost:8080/",
          "height": 697
        }
      },
      "source": [
        "import statsmodels.api as sm\n",
        "import statsmodels.formula.api as smf\n",
        "\n",
        "X = sm.add_constant(x_train)\n",
        "results = sm.OLS(y_train, X).fit()\n",
        "print(results.summary())"
      ],
      "execution_count": 0,
      "outputs": [
        {
          "output_type": "stream",
          "text": [
            "                            OLS Regression Results                            \n",
            "==============================================================================\n",
            "Dep. Variable:         listener_count   R-squared:                       0.180\n",
            "Model:                            OLS   Adj. R-squared:                  0.173\n",
            "Method:                 Least Squares   F-statistic:                     27.91\n",
            "Date:                Tue, 03 Dec 2019   Prob (F-statistic):           4.81e-67\n",
            "Time:                        09:21:04   Log-Likelihood:                -24784.\n",
            "No. Observations:                1797   AIC:                         4.960e+04\n",
            "Df Residuals:                    1782   BIC:                         4.968e+04\n",
            "Df Model:                          14                                         \n",
            "Covariance Type:            nonrobust                                         \n",
            "=====================================================================================\n",
            "                        coef    std err          t      P>|t|      [0.025      0.975]\n",
            "-------------------------------------------------------------------------------------\n",
            "const              3.117e+05   8.78e+05      0.355      0.722   -1.41e+06    2.03e+06\n",
            "acousticness        3.44e+04   3.02e+04      1.137      0.255   -2.49e+04    9.37e+04\n",
            "danceability      -1.615e+05   4.49e+04     -3.600      0.000    -2.5e+05   -7.35e+04\n",
            "energy             1.239e+05   4.67e+04      2.654      0.008    3.23e+04    2.16e+05\n",
            "liveness          -4.708e+04    3.7e+04     -1.271      0.204    -1.2e+05    2.56e+04\n",
            "loudness          -8731.4916   2249.742     -3.881      0.000   -1.31e+04   -4319.082\n",
            "speechiness       -3.044e+05    8.5e+04     -3.583      0.000   -4.71e+05   -1.38e+05\n",
            "tempo              -290.8709    200.664     -1.450      0.147    -684.433     102.691\n",
            "valence            1.007e+05   2.95e+04      3.417      0.001    4.29e+04    1.58e+05\n",
            "artist_popularity  7432.3648    393.150     18.905      0.000    6661.282    8203.448\n",
            "Topic0            -6.809e+05   8.72e+05     -0.781      0.435   -2.39e+06    1.03e+06\n",
            "Topic1            -6.558e+05   8.74e+05     -0.750      0.453   -2.37e+06    1.06e+06\n",
            "Topic2            -6.815e+05   8.74e+05     -0.779      0.436    -2.4e+06    1.03e+06\n",
            "Topic3            -6.709e+05   8.75e+05     -0.767      0.443   -2.39e+06    1.05e+06\n",
            "sentiment          1.201e+04   7041.941      1.705      0.088   -1805.537    2.58e+04\n",
            "==============================================================================\n",
            "Omnibus:                      997.716   Durbin-Watson:                   2.051\n",
            "Prob(Omnibus):                  0.000   Jarque-Bera (JB):             9243.928\n",
            "Skew:                           2.465   Prob(JB):                         0.00\n",
            "Kurtosis:                      12.958   Cond. No.                     4.99e+04\n",
            "==============================================================================\n",
            "\n",
            "Warnings:\n",
            "[1] Standard Errors assume that the covariance matrix of the errors is correctly specified.\n",
            "[2] The condition number is large, 4.99e+04. This might indicate that there are\n",
            "strong multicollinearity or other numerical problems.\n"
          ],
          "name": "stdout"
        }
      ]
    },
    {
      "cell_type": "code",
      "metadata": {
        "id": "3FQjFI07LFEj",
        "colab_type": "code",
        "outputId": "b23c8107-c13d-40ca-ec08-32b4f57f66bf",
        "colab": {
          "base_uri": "https://localhost:8080/",
          "height": 129
        }
      },
      "source": [
        " FeatureUnion(\n",
        "        transformer_list=[\n",
        "\n",
        "            # Pipeline for pulling features from the post's subject line\n",
        "            ('subject', Pipeline([\n",
        "                ('selector', ItemSelector(key='subject')),\n",
        "                ('tfidf', TfidfVectorizer(min_df=50)),\n",
        "            ])),"
      ],
      "execution_count": 0,
      "outputs": [
        {
          "output_type": "error",
          "ename": "SyntaxError",
          "evalue": "ignored",
          "traceback": [
            "\u001b[0;36m  File \u001b[0;32m\"<ipython-input-40-2758172fdaa9>\"\u001b[0;36m, line \u001b[0;32m8\u001b[0m\n\u001b[0;31m    ])),\u001b[0m\n\u001b[0m        ^\u001b[0m\n\u001b[0;31mSyntaxError\u001b[0m\u001b[0;31m:\u001b[0m unexpected EOF while parsing\n"
          ]
        }
      ]
    },
    {
      "cell_type": "code",
      "metadata": {
        "id": "Bdn-ObH7-2_M",
        "colab_type": "code",
        "outputId": "52aa14d5-9cc8-4ffd-b48a-cf4e1d0046d9",
        "colab": {
          "base_uri": "https://localhost:8080/",
          "height": 221
        }
      },
      "source": [
        "# Min-Max Scaling of Features and recommendation # no\n",
        "\n",
        "df = df_songs[['acousticness', 'danceability', 'energy', 'liveness', 'loudness', 'speechiness', 'tempo', 'valence','artist_popularity','Topic0','Topic1','Topic2','Topic3','sentiment']]\n",
        "mms = MinMaxScaler()\n",
        "mms.fit(df)\n",
        "data_transformed = mms.transform(df)\n",
        "\n",
        "cosine_similarities=cosine_similarity(data_transformed)\n",
        "related_song_indices = cosine_similarities.argsort()[index][:-7:-1]\n",
        "recom=list(related_song_indices)\n",
        "\n",
        "for i in recom:\n",
        "  print(df_songs.iloc[[i]][['name','artist']] )\n"
      ],
      "execution_count": 0,
      "outputs": [
        {
          "output_type": "stream",
          "text": [
            "                            name     artist\n",
            "1472  Boulevard of Broken Dreams  Green Day\n",
            "         name artist\n",
            "932  Carry On   fun.\n",
            "                name       artist\n",
            "256  We Used to Wait  Arcade Fire\n",
            "                         name         artist\n",
            "281  When Am I Gonna Lose You  Local Natives\n",
            "                        name                   artist\n",
            "235  When the Seasons Change  Five Finger Death Punch\n",
            "           name         artist\n",
            "1823  Cleopatra  The Lumineers\n"
          ],
          "name": "stdout"
        }
      ]
    }
  ]
}